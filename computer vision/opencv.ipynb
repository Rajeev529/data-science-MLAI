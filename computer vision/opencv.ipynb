{
 "cells": [
  {
   "cell_type": "code",
   "execution_count": 1,
   "id": "d26ac2c6-529c-4500-b83e-c0580030ae25",
   "metadata": {},
   "outputs": [],
   "source": [
    "import cv2"
   ]
  },
  {
   "cell_type": "code",
   "execution_count": 3,
   "id": "de2e6cc7-3e24-4f93-a889-f70f66518a98",
   "metadata": {},
   "outputs": [],
   "source": [
    "img=cv2.imread(r\"C:\\Users\\hp\\Downloads\\Screenshot 2025-09-06 140122.png\")\n",
    "cv2.imshow('frame1',img)\n",
    "cv2.waitKey(4000)\n",
    "cv2.destroyAllWindows()"
   ]
  },
  {
   "cell_type": "code",
   "execution_count": 1,
   "id": "917dc3ee-cb4f-4a6a-9660-f606f9ffa54d",
   "metadata": {},
   "outputs": [],
   "source": [
    "# uses stored video\n",
    "import cv2\n",
    "vid=cv2.VideoCapture(r'C:\\Users\\hp\\Downloads\\proto type and ppt.mp4')\n",
    "frame_x=640\n",
    "frame_y=480\n",
    "while True:\n",
    "    success, img=vid.read()\n",
    "    if success==True:\n",
    "        img=cv2.resize(img,(frame_x, frame_y))\n",
    "        cv2.imshow(\"video\",img)\n",
    "        if cv2.waitKey(25) & 0xFF==ord('q'):\n",
    "            break\n",
    "vid.release()\n",
    "vid.destroyAllWindows()"
   ]
  },
  {
   "cell_type": "code",
   "execution_count": 1,
   "id": "4164232f-3875-4c51-922c-7956343a1bc9",
   "metadata": {},
   "outputs": [],
   "source": [
    "#uses webcam\n",
    "import cv2\n",
    "vid=cv2.VideoCapture(0)\n",
    "frame_x=640\n",
    "frame_y=480\n",
    "while True:\n",
    "    success, img=vid.read()\n",
    "    if success==True:\n",
    "        img=cv2.resize(img,(frame_x, frame_y))\n",
    "        cv2.imshow(\"video\",img)\n",
    "        if cv2.waitKey(25) & 0xFF==ord('q'):\n",
    "            break\n",
    "vid.release()\n",
    "vid.destroyAllWindows()"
   ]
  },
  {
   "cell_type": "code",
   "execution_count": 3,
   "id": "d1c3a980-70db-4882-8d74-1e6ac101fa26",
   "metadata": {},
   "outputs": [],
   "source": [
    "# cropping\n",
    "import cv2\n",
    "img=cv2.imread(r'C:\\Users\\hp\\Downloads\\about.png')\n",
    "cv2.imshow('frame1',img)\n",
    "cv2.waitKey(4000)\n",
    "cv2.destroyAllWindows()"
   ]
  },
  {
   "cell_type": "code",
   "execution_count": 9,
   "id": "22af6b88-b611-40b7-836c-d8e6558f6477",
   "metadata": {},
   "outputs": [],
   "source": [
    "scale=0.8\n",
    "size=img.shape\n",
    "x=int(scale*size[0])\n",
    "y=int(scale*size[1])\n",
    "\n",
    "updated_image=cv2.resize(img, (x,y))\n",
    "cv2.imshow('frame',updated_image)\n",
    "cv2.waitKey(0)\n",
    "cv2.destroyAllWindows()"
   ]
  },
  {
   "cell_type": "code",
   "execution_count": 14,
   "id": "bbff4e83-af08-4cfd-b5cc-817d0356efe8",
   "metadata": {},
   "outputs": [],
   "source": [
    "cropped=img[100:500, 100:200]\n",
    "cv2.imshow('frame', cropped)\n",
    "cv2.waitKey(0)\n",
    "cv2.destroyAllWindows()"
   ]
  },
  {
   "cell_type": "code",
   "execution_count": 16,
   "id": "493c182b-f02d-4347-9bec-85d6b9537e76",
   "metadata": {},
   "outputs": [],
   "source": [
    "import cv2\n",
    "img=cv2.imread(r'C:\\Users\\hp\\Downloads\\about.png')\n",
    "bw=cv2.cvtColor(img, cv2.COLOR_BGR2GRAY)\n",
    "cv2.imshow('img',bw)\n",
    "cv2.waitKey(0)\n",
    "cv2.destroyAllWindows()"
   ]
  },
  {
   "cell_type": "code",
   "execution_count": 4,
   "id": "360a8c31-bf04-49ae-8851-5baaf2901a9c",
   "metadata": {},
   "outputs": [],
   "source": [
    "# bgr to hsv\n",
    "import cv2\n",
    "img=cv2.imread(r'C:\\Users\\hp\\Downloads\\about.png')\n",
    "hsv=cv2.cvtColor(img, cv2.COLOR_BGR2HSV)\n",
    "cv2.imshow('img', hsv)\n",
    "cv2.waitKey(0)\n",
    "cv2.destroyAllWindows()"
   ]
  },
  {
   "cell_type": "code",
   "execution_count": 5,
   "id": "09741acd-6866-41b3-b927-36e69b8d9824",
   "metadata": {},
   "outputs": [],
   "source": [
    "import cv2\n",
    "img=cv2.imread(r'C:\\Users\\hp\\Downloads\\about.png')\n",
    "lab=cv2.cvtColor(img, cv2.COLOR_BGR2LAB)\n",
    "cv2.imshow('img', lab)\n",
    "cv2.waitKey(0)\n",
    "cv2.destroyAllWindows()"
   ]
  },
  {
   "cell_type": "code",
   "execution_count": 10,
   "id": "f035dd93-3bfb-4988-8c00-71854ca80ca1",
   "metadata": {},
   "outputs": [],
   "source": [
    "# translation and rotation\n",
    "import cv2\n",
    "import numpy as np\n",
    "img=cv2.imread(r'C:\\Users\\hp\\Downloads\\about.png')\n",
    "x=100\n",
    "y=-400\n",
    "translation=np.float32([[1,0,x],[0,1,y]])\n",
    "dim=(img.shape[1],img.shape[0])\n",
    "translating=cv2.warpAffine(img, translation, dim)\n",
    "\n",
    "cv2.imshow('img',translating)\n",
    "cv2.waitKey(0)\n",
    "cv2.destroyAllWindows()"
   ]
  },
  {
   "cell_type": "code",
   "execution_count": 2,
   "id": "025c212e-89b2-4344-b397-a9bf24d293db",
   "metadata": {},
   "outputs": [],
   "source": [
    "import cv2\n",
    "img=cv2.imread(r'C:\\Users\\hp\\Downloads\\about.png')\n",
    "kernel=(17,17)\n",
    "sigmax=0\n",
    "blurredimg=cv2.GaussianBlur(img, kernel, sigmax)\n",
    "cv2.imshow('img', blurredimg)\n",
    "cv2.waitKey(0)\n",
    "cv2.destroyAllWindows()"
   ]
  },
  {
   "cell_type": "code",
   "execution_count": 5,
   "id": "dd48c663-b9b6-4cdb-a379-67ed28e18407",
   "metadata": {},
   "outputs": [],
   "source": [
    "import cv2\n",
    "import numpy as np\n",
    "img=cv2.imread(r'C:\\Users\\hp\\Downloads\\about.png')\n",
    "width, height = img.shape[1], img.shape[0]\n",
    "ptsa=np.float32([[552, 508], [954, 509], [946, 991], [553, 994]])\n",
    "ptsb=np.float32([[0,0], [width, 0], [0, height], [width, height]])\n",
    "matrix=cv2.getPerspectiveTransform(ptsa, ptsb)\n",
    "warping=cv2.warpPerspective(img, matrix, (width, height))\n",
    "\n",
    "cv2.imshow('img', warping)\n",
    "cv2.waitKey(0)\n",
    "cv2.destroyAllWindows()"
   ]
  },
  {
   "cell_type": "code",
   "execution_count": 2,
   "id": "0027f4e6-606b-4e84-be90-dad312c05640",
   "metadata": {},
   "outputs": [],
   "source": [
    "# circle in images\n",
    "import cv2\n",
    "img=cv2.imread(r'C:\\Users\\hp\\Downloads\\about.png')\n",
    "center=(410, 170)\n",
    "radius=100\n",
    "red=(0,0,255)\n",
    "thick=5\n",
    "cv2.circle(img, center, radius, red, thick)\n",
    "cv2.imshow('img', img)\n",
    "cv2.waitKey(0)\n",
    "cv2.destroyAllWindows()"
   ]
  },
  {
   "cell_type": "code",
   "execution_count": 6,
   "id": "d672f5bd-8c5c-4c53-a545-172f2568b8a5",
   "metadata": {},
   "outputs": [],
   "source": [
    "# add line\n",
    "import cv2\n",
    "img=cv2.imread(r'C:\\Users\\hp\\Downloads\\about.png')\n",
    "start=(0,0)\n",
    "end=(img.shape[0], img.shape[1])\n",
    "color=(0, 0, 0)\n",
    "thick=10\n",
    "cv2.line(img, start, end, color, thick)\n",
    "cv2.imshow('img', img)\n",
    "cv2.waitKey(0)\n",
    "cv2.destroyAllWindows()"
   ]
  },
  {
   "cell_type": "code",
   "execution_count": 8,
   "id": "f4c31108-fbcd-49ff-a4cc-6b17633e8a03",
   "metadata": {},
   "outputs": [],
   "source": [
    "import cv2\n",
    "img=cv2.imread(r'C:\\Users\\hp\\Downloads\\about.png')\n",
    "text=\"watermark\"\n",
    "start=(100,200)\n",
    "size=5\n",
    "color=(0,0,0)\n",
    "thick=6\n",
    "cv2.putText(img, text, start, cv2.FONT_HERSHEY_SCRIPT_SIMPLEX ,size, color, thick)\n",
    "cv2.imshow('img', img)\n",
    "cv2.waitKey(0)\n",
    "cv2.destroyAllWindows()\n"
   ]
  }
 ],
 "metadata": {
  "kernelspec": {
   "display_name": "Python 3 (ipykernel)",
   "language": "python",
   "name": "python3"
  },
  "language_info": {
   "codemirror_mode": {
    "name": "ipython",
    "version": 3
   },
   "file_extension": ".py",
   "mimetype": "text/x-python",
   "name": "python",
   "nbconvert_exporter": "python",
   "pygments_lexer": "ipython3",
   "version": "3.12.5"
  }
 },
 "nbformat": 4,
 "nbformat_minor": 5
}
