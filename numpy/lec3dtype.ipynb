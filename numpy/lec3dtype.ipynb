{
 "cells": [
  {
   "cell_type": "code",
   "execution_count": null,
   "id": "dac4630e-de59-40c4-ac93-b68d5d480438",
   "metadata": {},
   "outputs": [],
   "source": [
    "# data types in python: string, integer, float, boolean, complex\n",
    "# data type in numpy \n",
    "# i for integer\n",
    "# b for boolean\n",
    "# u for unsigned integer\n",
    "# f for float\n",
    "# c for complex float\n",
    "# m for timedelta\n",
    "# M for datetime\n",
    "# O for object\n",
    "# S for string\n",
    "# U for unicode string\n",
    "# V - memory\n",
    "\n",
    "# checking the data type of numpy array -dtype"
   ]
  },
  {
   "cell_type": "code",
   "execution_count": 2,
   "id": "75bab4e0-b5f8-4072-a37e-74dc637763c1",
   "metadata": {},
   "outputs": [
    {
     "name": "stdout",
     "output_type": "stream",
     "text": [
      "int64\n"
     ]
    }
   ],
   "source": [
    "import numpy as np\n",
    "a=np.array([1,2,3,5,6])\n",
    "print(a.dtype)"
   ]
  },
  {
   "cell_type": "code",
   "execution_count": 4,
   "id": "733a6623-d997-470b-accf-dbbc1aa56767",
   "metadata": {},
   "outputs": [
    {
     "name": "stdout",
     "output_type": "stream",
     "text": [
      "['apple' 'banana' 'orange']\n",
      "<U6\n"
     ]
    }
   ],
   "source": [
    "import numpy as np\n",
    "a=np.array(['apple','banana','orange'])\n",
    "print(a)\n",
    "print(a.dtype)"
   ]
  },
  {
   "cell_type": "code",
   "execution_count": 6,
   "id": "d57dd244-4633-4f91-b3b4-470f0d91e9d5",
   "metadata": {},
   "outputs": [
    {
     "name": "stdout",
     "output_type": "stream",
     "text": [
      "[b'1' b'2' b'3' b'4' b'5']\n",
      "|S1\n"
     ]
    }
   ],
   "source": [
    "import numpy as np\n",
    "a=np.array([1,2,3,4,5],dtype='S')\n",
    "print(a)\n",
    "print(a.dtype)"
   ]
  },
  {
   "cell_type": "code",
   "execution_count": 7,
   "id": "134f78a5-b91c-47b0-b144-cddf4169b810",
   "metadata": {},
   "outputs": [
    {
     "name": "stdout",
     "output_type": "stream",
     "text": [
      "[1 2 3 4 5]\n",
      "object\n"
     ]
    }
   ],
   "source": [
    "import numpy as np\n",
    "a=np.array([1,2,3,4,5],dtype='O')\n",
    "print(a)\n",
    "print(a.dtype)"
   ]
  },
  {
   "cell_type": "code",
   "execution_count": 9,
   "id": "5e539ef4-05d8-4759-b842-e1f386cfbf75",
   "metadata": {},
   "outputs": [
    {
     "name": "stdout",
     "output_type": "stream",
     "text": [
      "['hunter' 'mango' 'shoot']\n",
      "object\n"
     ]
    }
   ],
   "source": [
    "import numpy as np\n",
    "a=np.array(['hunter','mango','shoot'],dtype='O')\n",
    "print(a)\n",
    "print(a.dtype)"
   ]
  },
  {
   "cell_type": "code",
   "execution_count": 10,
   "id": "0b1b6469-8d1d-4c43-bdf4-e27ad5171d0b",
   "metadata": {},
   "outputs": [
    {
     "name": "stdout",
     "output_type": "stream",
     "text": [
      "[1 2 3 4 5]\n",
      "int32\n"
     ]
    }
   ],
   "source": [
    "# i stand for integer 4 stand for 4byte\n",
    "import numpy as np\n",
    "a=np.array([1,2,3,4,5], dtype='i4')\n",
    "print(a)\n",
    "print(a.dtype)"
   ]
  },
  {
   "cell_type": "code",
   "execution_count": 13,
   "id": "3cf61eb4-3d9d-443e-869a-38598da1e2ac",
   "metadata": {},
   "outputs": [
    {
     "name": "stdout",
     "output_type": "stream",
     "text": [
      "[b'1' b'2' b'3' b'4' b'5']\n"
     ]
    }
   ],
   "source": [
    "# convert data type in existing array\n",
    "import numpy as np\n",
    "a=np.array([1,2,3,4,5])\n",
    "b=a.astype('S')\n",
    "print(b)"
   ]
  },
  {
   "cell_type": "code",
   "execution_count": 17,
   "id": "4a93f998-b6aa-49c5-a833-7b2aca5e6547",
   "metadata": {},
   "outputs": [
    {
     "name": "stdout",
     "output_type": "stream",
     "text": [
      "[-1  2  3  4  5]\n",
      "[ True  True  True  True  True]\n"
     ]
    }
   ],
   "source": [
    "import numpy as np\n",
    "a=np.array([-1.4,2.5,3.9,4.1,5.0])\n",
    "b=a.astype('i')\n",
    "c=a.astype(bool)\n",
    "print(b)\n",
    "print(c)"
   ]
  }
 ],
 "metadata": {
  "kernelspec": {
   "display_name": "Python 3 (ipykernel)",
   "language": "python",
   "name": "python3"
  },
  "language_info": {
   "codemirror_mode": {
    "name": "ipython",
    "version": 3
   },
   "file_extension": ".py",
   "mimetype": "text/x-python",
   "name": "python",
   "nbconvert_exporter": "python",
   "pygments_lexer": "ipython3",
   "version": "3.12.5"
  }
 },
 "nbformat": 4,
 "nbformat_minor": 5
}
