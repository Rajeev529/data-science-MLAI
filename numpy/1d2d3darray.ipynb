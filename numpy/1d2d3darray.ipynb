{
 "cells": [
  {
   "cell_type": "code",
   "execution_count": 5,
   "id": "0ac2eba7-733e-4d8f-84a9-323e7723240f",
   "metadata": {},
   "outputs": [
    {
     "name": "stdout",
     "output_type": "stream",
     "text": [
      "1D :  15\n",
      "dimensio:  0\n"
     ]
    }
   ],
   "source": [
    "import numpy as np\n",
    "x=np.array(15)\n",
    "print(\"1D : \",x)\n",
    "print(\"dimensio: \",x.ndim)   #ndim use here to find dimension of the numpy array"
   ]
  },
  {
   "cell_type": "code",
   "execution_count": 6,
   "id": "305b5bfe-824f-4cc1-82c0-c5f4473265b4",
   "metadata": {},
   "outputs": [
    {
     "name": "stdout",
     "output_type": "stream",
     "text": [
      "val :  4\n",
      "array :  [0 1 2 3 4]\n",
      "dimension:  1\n"
     ]
    }
   ],
   "source": [
    "import numpy as np\n",
    "x=np.array([0,1,2,3,4])\n",
    "print(\"val : \",x[4])\n",
    "print(\"array : \",x)\n",
    "print(\"dimension: \",x.ndim)"
   ]
  },
  {
   "cell_type": "code",
   "execution_count": 9,
   "id": "4b216973-1bd1-4c13-be99-054ed1651d68",
   "metadata": {},
   "outputs": [
    {
     "name": "stdout",
     "output_type": "stream",
     "text": [
      "2D :  [[ 0  1  2  3  4]\n",
      " [ 5  6  7  8 10]]\n",
      "1D from 2D :  [ 5  6  7  8 10]\n",
      "element from 2D :  7\n",
      "dimension:  2\n"
     ]
    }
   ],
   "source": [
    "import numpy as np\n",
    "x=np.array([[0,1,2,3,4],[5,6,7,8,10]])\n",
    "print(\"2D : \",x)\n",
    "print(\"1D from 2D : \",x[1])\n",
    "print(\"element from 2D : \",x[1][2])\n",
    "print(\"dimension: \",x.ndim)"
   ]
  },
  {
   "cell_type": "code",
   "execution_count": 10,
   "id": "71c09707-0e79-4b19-8a59-f245f55f8d7c",
   "metadata": {},
   "outputs": [
    {
     "name": "stdout",
     "output_type": "stream",
     "text": [
      "3D :  [[[ 0  1  2  3  4]\n",
      "  [ 5  6  7  8 10]]\n",
      "\n",
      " [[10 11 12 13 14]\n",
      "  [15 16 17 18 10]]]\n",
      "1D from 3D :  [[10 11 12 13 14]\n",
      " [15 16 17 18 10]]\n",
      "element from 3D :  18\n",
      "dimension:  3\n"
     ]
    }
   ],
   "source": [
    "import numpy as np\n",
    "x=np.array([[[0,1,2,3,4],[5,6,7,8,10]],[[10,11,12,13,14],[15,16,17,18,10]]])\n",
    "print(\"3D : \",x)\n",
    "print(\"1D from 3D : \",x[1])\n",
    "print(\"element from 3D : \",x[1][1][3])\n",
    "print(\"dimension: \",x.ndim)"
   ]
  },
  {
   "cell_type": "markdown",
   "id": "2414f8f2-d351-4213-b1ca-e703dfd61de5",
   "metadata": {},
   "source": [
    "# revive zone alert"
   ]
  },
  {
   "cell_type": "code",
   "execution_count": 4,
   "id": "1bfd7bd7-ee80-4f29-b19e-2757dac2c657",
   "metadata": {},
   "outputs": [
    {
     "name": "stdout",
     "output_type": "stream",
     "text": [
      "<class 'numpy.ndarray'>\n",
      "0\n"
     ]
    }
   ],
   "source": []
  }
 ],
 "metadata": {
  "kernelspec": {
   "display_name": "Python 3 (ipykernel)",
   "language": "python",
   "name": "python3"
  },
  "language_info": {
   "codemirror_mode": {
    "name": "ipython",
    "version": 3
   },
   "file_extension": ".py",
   "mimetype": "text/x-python",
   "name": "python",
   "nbconvert_exporter": "python",
   "pygments_lexer": "ipython3",
   "version": "3.12.5"
  }
 },
 "nbformat": 4,
 "nbformat_minor": 5
}
