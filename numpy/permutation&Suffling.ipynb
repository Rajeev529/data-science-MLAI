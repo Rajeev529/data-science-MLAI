{
 "cells": [
  {
   "cell_type": "code",
   "execution_count": null,
   "id": "d5e9f556-eabc-407b-8eca-da613410b0d4",
   "metadata": {},
   "outputs": [],
   "source": [
    "# they do almost same task but suffle change oringinal array while permution not"
   ]
  },
  {
   "cell_type": "markdown",
   "id": "a62cec3c-c1b8-440b-b10a-1d9c6c54b5cb",
   "metadata": {},
   "source": [
    "# random.shuffle()"
   ]
  },
  {
   "cell_type": "code",
   "execution_count": 5,
   "id": "1a0b00b3-8afc-43a1-a4cb-0350ae053408",
   "metadata": {},
   "outputs": [
    {
     "name": "stdout",
     "output_type": "stream",
     "text": [
      "[3 5 4 1 2]\n"
     ]
    }
   ],
   "source": [
    "import numpy as np\n",
    "from numpy import random\n",
    "arr=np.array([1,2,3,4,5])\n",
    "random.shuffle(arr)\n",
    "print(arr)\n"
   ]
  },
  {
   "cell_type": "markdown",
   "id": "b405ae73-0c89-4769-9853-9785fb4a55c0",
   "metadata": {},
   "source": [
    "# random.permutation()"
   ]
  },
  {
   "cell_type": "code",
   "execution_count": 7,
   "id": "2804a71e-e006-44cc-a570-7478e4963e3c",
   "metadata": {},
   "outputs": [
    {
     "name": "stdout",
     "output_type": "stream",
     "text": [
      "[1 2 3 4 5]\n"
     ]
    }
   ],
   "source": [
    "import numpy as np\n",
    "from numpy import random\n",
    "arr=np.array([1,2,3,4,5])\n",
    "random.permutation(arr)\n",
    "print(arr)\n"
   ]
  },
  {
   "cell_type": "code",
   "execution_count": 16,
   "id": "e03525a3-2ce4-45c4-b714-184bd16f133b",
   "metadata": {},
   "outputs": [
    {
     "name": "stdout",
     "output_type": "stream",
     "text": [
      "[2 4 5 1 3]\n"
     ]
    }
   ],
   "source": [
    "import numpy as np\n",
    "from numpy import random\n",
    "arr=np.array([1,2,3,4,5])\n",
    "print(random.permutation(arr))\n"
   ]
  },
  {
   "cell_type": "code",
   "execution_count": null,
   "id": "1e55a385-5f07-4242-a93c-be13f4f30825",
   "metadata": {},
   "outputs": [],
   "source": []
  }
 ],
 "metadata": {
  "kernelspec": {
   "display_name": "Python 3 (ipykernel)",
   "language": "python",
   "name": "python3"
  },
  "language_info": {
   "codemirror_mode": {
    "name": "ipython",
    "version": 3
   },
   "file_extension": ".py",
   "mimetype": "text/x-python",
   "name": "python",
   "nbconvert_exporter": "python",
   "pygments_lexer": "ipython3",
   "version": "3.12.5"
  }
 },
 "nbformat": 4,
 "nbformat_minor": 5
}
