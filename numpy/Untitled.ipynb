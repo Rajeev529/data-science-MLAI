{
 "cells": [
  {
   "cell_type": "markdown",
   "id": "11f2d3ab-56e5-429f-91d6-6c76e1fccdd5",
   "metadata": {},
   "source": [
    "# numpy normal gaussian"
   ]
  },
  {
   "cell_type": "raw",
   "id": "ff7854a4-b845-4d8b-b9ff-fbe22f5912c4",
   "metadata": {},
   "source": [
    "# formula link\n",
    "https://www.google.com/url?sa=i&url=https%3A%2F%2Fwww.thoughtco.com%2Fnormal-distribution-bell-curve-formula-3126278&psig=AOvVaw0em0j8JcOB36PDj8wP5346&ust=1749149321625000&source=images&cd=vfe&opi=89978449&ved=0CBQQjRxqFwoTCLiAjJG32I0DFQAAAAAdAAAAABAE"
   ]
  },
  {
   "cell_type": "code",
   "execution_count": null,
   "id": "064adf59-fc1d-42ae-ae60-664beda2edd3",
   "metadata": {},
   "outputs": [],
   "source": []
  },
  {
   "cell_type": "code",
   "execution_count": 5,
   "id": "601eb1d5-b350-4eeb-89eb-b95979c5210e",
   "metadata": {},
   "outputs": [
    {
     "name": "stdout",
     "output_type": "stream",
     "text": [
      "[[-2.03374212  2.0717706   0.80739215 -0.79986405  0.4282096   0.03721306\n",
      "   0.01292696  0.72507107 -0.13594191  0.04112463]\n",
      " [-0.25563585 -0.66329061 -0.84339166  0.28624081 -1.44702177 -0.94659512\n",
      "   1.0202801   1.08930668 -0.66277892 -0.62146875]]\n",
      "[[-0.269846   -0.73335352 -0.07233825  0.31685249 -0.67300262  0.07532629\n",
      "  -0.08734861 -1.17333559 -0.81882485 -0.56339896]]\n"
     ]
    }
   ],
   "source": [
    "from numpy import random\n",
    "a=random.normal(size=(2,10)) #2d array with each row has 10 random data\n",
    "print(a)\n",
    "a=random.normal(size=(1,10)) #1d array with each row has 10 random data\n",
    "print(a)"
   ]
  },
  {
   "cell_type": "code",
   "execution_count": 6,
   "id": "085ffbd8-25eb-4fc7-9600-fe95783fd3fe",
   "metadata": {},
   "outputs": [
    {
     "name": "stdout",
     "output_type": "stream",
     "text": [
      "[[1. 1. 1. 1. 1. 1. 1. 1. 1. 1.]\n",
      " [1. 1. 1. 1. 1. 1. 1. 1. 1. 1.]]\n"
     ]
    }
   ],
   "source": [
    "a=random.normal(loc=1,scale=0, size=(2,10))\n",
    "print(a)"
   ]
  },
  {
   "cell_type": "code",
   "execution_count": 13,
   "id": "5365075d-ce25-41de-893b-84f6ecab71cb",
   "metadata": {},
   "outputs": [
    {
     "name": "stderr",
     "output_type": "stream",
     "text": [
      "C:\\Users\\hp\\AppData\\Local\\Temp\\ipykernel_10524\\3586992917.py:5: UserWarning: \n",
      "\n",
      "`distplot` is a deprecated function and will be removed in seaborn v0.14.0.\n",
      "\n",
      "Please adapt your code to use either `displot` (a figure-level function with\n",
      "similar flexibility) or `histplot` (an axes-level function for histograms).\n",
      "\n",
      "For a guide to updating your code to use the new functions, please see\n",
      "https://gist.github.com/mwaskom/de44147ed2974457ad6372750bbe5751\n",
      "\n",
      "  sb.distplot(a)\n",
      "C:\\Users\\hp\\AppData\\Local\\Programs\\Python\\Python312\\Lib\\site-packages\\seaborn\\distributions.py:2496: UserWarning: Dataset has 0 variance; skipping density estimate. Pass `warn_singular=False` to disable this warning.\n",
      "  kdeplot(**{axis: a}, ax=ax, color=kde_color, **kde_kws)\n"
     ]
    },
    {
     "data": {
      "image/png": "[encoded data removed]",
      "text/plain": [
       "<Figure size 640x480 with 1 Axes>"
      ]
     },
     "metadata": {},
     "output_type": "display_data"
    }
   ],
   "source": [
    "from numpy import random\n",
    "import matplotlib.pyplot as plt\n",
    "import seaborn as sb\n",
    "a=random.normal(loc=1,scale=0, size=(2,100))\n",
    "sb.distplot(a)\n",
    "plt.show()"
   ]
  }
 ],
 "metadata": {
  "kernelspec": {
   "display_name": "Python 3 (ipykernel)",
   "language": "python",
   "name": "python3"
  },
  "language_info": {
   "codemirror_mode": {
    "name": "ipython",
    "version": 3
   },
   "file_extension": ".py",
   "mimetype": "text/x-python",
   "name": "python",
   "nbconvert_exporter": "python",
   "pygments_lexer": "ipython3",
   "version": "3.12.5"
  }
 },
 "nbformat": 4,
 "nbformat_minor": 5
}
