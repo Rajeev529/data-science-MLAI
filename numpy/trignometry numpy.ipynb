{
 "cells": [
  {
   "cell_type": "markdown",
   "id": "c6fb0490-0424-4c2c-942a-f0806740650c",
   "metadata": {},
   "source": [
    "# 1.) normal trigno metric function"
   ]
  },
  {
   "cell_type": "code",
   "execution_count": 4,
   "id": "916a9a87-aead-401c-bae5-432e0b6188bc",
   "metadata": {},
   "outputs": [
    {
     "name": "stdout",
     "output_type": "stream",
     "text": [
      "[0.0000000e+00 1.0000000e+00 1.2246468e-16]\n",
      "[ 1.000000e+00  6.123234e-17 -1.000000e+00]\n",
      "[ 0.00000000e+00  1.63312394e+16 -1.22464680e-16]\n"
     ]
    }
   ],
   "source": [
    "import numpy as np\n",
    "radians=np.array([0,np.pi/2, np.pi])\n",
    "print(np.sin(radians))\n",
    "print(np.cos(radians))\n",
    "print(np.tan(radians))"
   ]
  },
  {
   "cell_type": "markdown",
   "id": "ffb2d805-b29a-49c2-ac6a-a17385b584a9",
   "metadata": {},
   "source": [
    "# 2.) inverse of trignometry function (arc)"
   ]
  },
  {
   "cell_type": "code",
   "execution_count": 6,
   "id": "8a86eaea-0a25-45aa-a0f2-b3324910c9be",
   "metadata": {},
   "outputs": [
    {
     "name": "stdout",
     "output_type": "stream",
     "text": [
      "[ 0.          1.57079633 -1.57079633]\n",
      "[1.57079633 0.         3.14159265]\n",
      "[ 0.          0.78539816 -0.78539816]\n"
     ]
    }
   ],
   "source": [
    "import numpy as np\n",
    "vals=np.array([0,1,-1])\n",
    "print(np.arcsin(vals))\n",
    "print(np.arccos(vals))\n",
    "print(np.arctan(vals))"
   ]
  },
  {
   "cell_type": "markdown",
   "id": "7d3dcb35-e181-4f0e-bfc3-0f1c63edffcc",
   "metadata": {},
   "source": [
    "# 3.) degree <--> radian"
   ]
  },
  {
   "cell_type": "code",
   "execution_count": 11,
   "id": "ab5243ad-9d9c-43f8-b0e2-be1cd8f0ea6c",
   "metadata": {},
   "outputs": [
    {
     "name": "stdout",
     "output_type": "stream",
     "text": [
      "[  0.  90. 180.]\n",
      "[0.         1.57079633 3.14159265]\n"
     ]
    }
   ],
   "source": [
    "import numpy as np\n",
    "radians=np.array([0,np.pi/2, np.pi])\n",
    "degree=np.rad2deg(radians)\n",
    "print(degree)\n",
    "rad=np.deg2rad(degree)\n",
    "print(rad)"
   ]
  },
  {
   "cell_type": "markdown",
   "id": "b56441f5-28df-4349-8ee8-93574d2d62ae",
   "metadata": {},
   "source": [
    "# 4.) np.hypot hypotaneous"
   ]
  },
  {
   "cell_type": "code",
   "execution_count": 12,
   "id": "a68c979c-b13d-4b8b-aabb-64a1b97462ee",
   "metadata": {},
   "outputs": [
    {
     "name": "stdout",
     "output_type": "stream",
     "text": [
      "5.0\n"
     ]
    }
   ],
   "source": [
    "import numpy as np\n",
    "print(np.hypot(3,4)) # b=3, h=4"
   ]
  },
  {
   "cell_type": "markdown",
   "id": "36300152-a1c1-45bd-bde8-48cb1536c293",
   "metadata": {},
   "source": [
    "# 5.) angle calculations np.arctan2(x,y)"
   ]
  },
  {
   "cell_type": "code",
   "execution_count": 17,
   "id": "05d9a378-9834-4ed8-8267-d4bfaa1b6d4d",
   "metadata": {},
   "outputs": [
    {
     "name": "stdout",
     "output_type": "stream",
     "text": [
      "0.7853981633974483\n",
      "degree:  45.0\n"
     ]
    }
   ],
   "source": [
    "rad=np.arctan2(1,1)\n",
    "print(rad)\n",
    "print(\"degree: \",np.rad2deg(rad))"
   ]
  },
  {
   "cell_type": "markdown",
   "id": "05127c30-21c6-44c0-88b8-7dcd417b9137",
   "metadata": {},
   "source": [
    "# 6.) hyperbolic function as like above u use np.cosh(), np.sinh(). np.tanh()"
   ]
  }
 ],
 "metadata": {
  "kernelspec": {
   "display_name": "Python 3 (ipykernel)",
   "language": "python",
   "name": "python3"
  },
  "language_info": {
   "codemirror_mode": {
    "name": "ipython",
    "version": 3
   },
   "file_extension": ".py",
   "mimetype": "text/x-python",
   "name": "python",
   "nbconvert_exporter": "python",
   "pygments_lexer": "ipython3",
   "version": "3.12.5"
  }
 },
 "nbformat": 4,
 "nbformat_minor": 5
}
