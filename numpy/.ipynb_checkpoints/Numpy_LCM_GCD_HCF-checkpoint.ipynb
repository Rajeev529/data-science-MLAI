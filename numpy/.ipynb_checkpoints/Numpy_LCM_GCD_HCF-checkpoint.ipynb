{
 "cells": [
  {
   "cell_type": "markdown",
   "id": "b21f99b0-f893-45ac-a709-63e94b7594fa",
   "metadata": {},
   "source": [
    "# lcm of two numbers"
   ]
  },
  {
   "cell_type": "code",
   "execution_count": 3,
   "id": "bec97178-1e97-483a-8f06-c08ec64cb2da",
   "metadata": {},
   "outputs": [
    {
     "name": "stdout",
     "output_type": "stream",
     "text": [
      "4\n"
     ]
    }
   ],
   "source": [
    "import numpy as np\n",
    "print(np.lcm(4,2))"
   ]
  },
  {
   "cell_type": "code",
   "execution_count": 5,
   "id": "5fe6e81b-cf07-4254-b920-e1697511612b",
   "metadata": {},
   "outputs": [
    {
     "name": "stdout",
     "output_type": "stream",
     "text": [
      "24\n"
     ]
    }
   ],
   "source": [
    "# lcm of whole list\n",
    "import numpy as np\n",
    "a=np.array([4,6,8]) # 2*1*2*3*4\n",
    "print(np.lcm.reduce(a))\n",
    "\n",
    "# It calculates:\n",
    "# LCM(4, 6) = 12,\n",
    "# then LCM(12, 8) = 24"
   ]
  },
  {
   "cell_type": "code",
   "execution_count": 9,
   "id": "0df7c974-621a-4a50-8e6e-5834853b282d",
   "metadata": {},
   "outputs": [
    {
     "name": "stdout",
     "output_type": "stream",
     "text": [
      "36\n",
      "75\n",
      "60\n",
      "[36 75 60]\n"
     ]
    }
   ],
   "source": [
    "a = np.array([12, 15, 20])\n",
    "b = np.array([18, 25, 30])\n",
    "print(np.lcm(12,18))\n",
    "print(np.lcm(15,25))\n",
    "print(np.lcm(20,30))\n",
    "print(np.lcm(a, b))  # Output: [36 75 60]\n"
   ]
  },
  {
   "cell_type": "markdown",
   "id": "eb45625a-fe2e-4c88-8d90-16c19e3fa9df",
   "metadata": {},
   "source": [
    "# same as lcm parameters"
   ]
  },
  {
   "cell_type": "code",
   "execution_count": null,
   "id": "6c747290-b9bc-42eb-a774-395174491dc5",
   "metadata": {},
   "outputs": [],
   "source": [
    "a = np.array([20, 30, 40])\n",
    "b = np.array([30, 45, 50])\n",
    "\n",
    "print(np.gcd(a, b))  # Output: [10 15 10]"
   ]
  }
 ],
 "metadata": {
  "kernelspec": {
   "display_name": "Python 3 (ipykernel)",
   "language": "python",
   "name": "python3"
  },
  "language_info": {
   "codemirror_mode": {
    "name": "ipython",
    "version": 3
   },
   "file_extension": ".py",
   "mimetype": "text/x-python",
   "name": "python",
   "nbconvert_exporter": "python",
   "pygments_lexer": "ipython3",
   "version": "3.12.5"
  }
 },
 "nbformat": 4,
 "nbformat_minor": 5
}
