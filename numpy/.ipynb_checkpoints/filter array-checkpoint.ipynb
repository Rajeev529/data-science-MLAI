{
 "cells": [
  {
   "cell_type": "markdown",
   "id": "bf2bdeec-5df3-48e2-8962-db893332db9e",
   "metadata": {},
   "source": [
    "# majority these three typeof filteration is taken in used"
   ]
  },
  {
   "cell_type": "code",
   "execution_count": 11,
   "id": "9c7001e9-5e52-4c06-9f5c-5e2c3c021ac0",
   "metadata": {},
   "outputs": [
    {
     "name": "stdout",
     "output_type": "stream",
     "text": [
      "[2 4 6]\n",
      "[1 3 5 7]\n"
     ]
    }
   ],
   "source": [
    "import numpy as np\n",
    "a=np.array([1,2,3,4,5,6,7])\n",
    "idx=np.where(a%2==0,True,False)\n",
    "\n",
    "print(a[idx])\n",
    "print(a[idx==False])"
   ]
  },
  {
   "cell_type": "code",
   "execution_count": 12,
   "id": "6d5f6397-da69-42f6-bd54-a33f851fd95f",
   "metadata": {},
   "outputs": [
    {
     "name": "stdout",
     "output_type": "stream",
     "text": [
      "[2 4 6]\n",
      "[]\n"
     ]
    }
   ],
   "source": [
    "import numpy as np\n",
    "a=np.array([1,2,3,4,5,6,7])\n",
    "idx=np.where(a%2==0)\n",
    "\n",
    "print(a[idx])"
   ]
  },
  {
   "cell_type": "code",
   "execution_count": 8,
   "id": "64f8f89f-8845-4db3-8d2b-c885ca3e0442",
   "metadata": {},
   "outputs": [
    {
     "name": "stdout",
     "output_type": "stream",
     "text": [
      "[2 4 6]\n",
      "[1 3 5 7]\n"
     ]
    }
   ],
   "source": [
    "import numpy as np\n",
    "a=np.array([1,2,3,4,5,6,7])\n",
    "fill_true=a%2==0\n",
    "\n",
    "print(a[fill_true])\n",
    "print(a[fill_true==False])"
   ]
  },
  {
   "cell_type": "code",
   "execution_count": null,
   "id": "a6a226ec-cef1-45ab-9ae2-b0d027da1b95",
   "metadata": {},
   "outputs": [],
   "source": []
  }
 ],
 "metadata": {
  "kernelspec": {
   "display_name": "Python 3 (ipykernel)",
   "language": "python",
   "name": "python3"
  },
  "language_info": {
   "codemirror_mode": {
    "name": "ipython",
    "version": 3
   },
   "file_extension": ".py",
   "mimetype": "text/x-python",
   "name": "python",
   "nbconvert_exporter": "python",
   "pygments_lexer": "ipython3",
   "version": "3.12.5"
  }
 },
 "nbformat": 4,
 "nbformat_minor": 5
}
