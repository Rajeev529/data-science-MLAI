{
 "cells": [
  {
   "cell_type": "code",
   "execution_count": null,
   "id": "f3027baf-e930-4e58-bbba-728a22e28e3e",
   "metadata": {},
   "outputs": [],
   "source": [
    "# hsplit kaatega verticall only but array_split y axis k allong katega ya toh 0 ya 1 (perpendicular blade)"
   ]
  },
  {
   "cell_type": "code",
   "execution_count": 24,
   "id": "3fcdde7f-00d2-42e3-b095-65697ed680ab",
   "metadata": {},
   "outputs": [
    {
     "name": "stdout",
     "output_type": "stream",
     "text": [
      "[array([1, 2]), array([3, 4]), array([5, 6])]\n",
      "[1 2]\n",
      "[3 4]\n",
      "[5 6]\n"
     ]
    }
   ],
   "source": [
    "# np.array_split() and np.hsplit()\n",
    "import numpy as np\n",
    "a=np.array([1,2,3,4,5,6])\n",
    "b=np.array_split(a,3)\n",
    "print(b)\n",
    "print(b[0])\n",
    "print(b[1])\n",
    "print(b[2])"
   ]
  },
  {
   "cell_type": "code",
   "execution_count": 11,
   "id": "1fa593c8-81eb-45d2-a1d7-051814069777",
   "metadata": {},
   "outputs": [
    {
     "name": "stdout",
     "output_type": "stream",
     "text": [
      "[[1 2 3]]\n",
      "[[4 5 6]]\n",
      "[]\n"
     ]
    }
   ],
   "source": [
    "import numpy as np\n",
    "x=np.array([[1,2,3],[4,5,6]])\n",
    "y=np.array_split(x,3)\n",
    "print(y[0])\n",
    "print(y[1])\n",
    "print(y[2])"
   ]
  },
  {
   "cell_type": "code",
   "execution_count": 26,
   "id": "15bfdb18-f7b8-42b1-a66b-8cf713177c6f",
   "metadata": {},
   "outputs": [
    {
     "name": "stdout",
     "output_type": "stream",
     "text": [
      "[[1 2 3]\n",
      " [4 5 6]]\n",
      "[[1 2 3]]\n",
      "[[4 5 6]]\n"
     ]
    }
   ],
   "source": [
    "y=np.array_split(x,2,axis=0)\n",
    "print(x)\n",
    "print(y[0])\n",
    "print(y[1])"
   ]
  },
  {
   "cell_type": "code",
   "execution_count": 18,
   "id": "52a29ee6-3335-41d4-a1ef-6689d89dc368",
   "metadata": {},
   "outputs": [
    {
     "name": "stdout",
     "output_type": "stream",
     "text": [
      "[array([1]), array([2]), array([3])]\n"
     ]
    }
   ],
   "source": [
    "import numpy as np\n",
    "a=np.array([1,2,3])\n",
    "b=np.hsplit(a,3)\n",
    "print(b)"
   ]
  },
  {
   "cell_type": "code",
   "execution_count": 27,
   "id": "36a72844-e505-4bc9-be5b-52066d17a3de",
   "metadata": {},
   "outputs": [
    {
     "name": "stdout",
     "output_type": "stream",
     "text": [
      "[array([[1, 2],\n",
      "       [6, 7]]), array([[3, 4],\n",
      "       [8, 9]])]\n",
      "[[1 2]\n",
      " [6 7]]\n",
      "[[3 4]\n",
      " [8 9]]\n"
     ]
    }
   ],
   "source": [
    "import numpy as np\n",
    "a=np.array([[1,2,3,4],[6,7,8,9]])\n",
    "b=np.hsplit(a,2)\n",
    "print(b)\n",
    "print(b[0])\n",
    "print(b[1])"
   ]
  },
  {
   "cell_type": "code",
   "execution_count": null,
   "id": "eeae9ad8-c77a-47a0-91f5-29662a8f8af1",
   "metadata": {},
   "outputs": [],
   "source": [
    "\"\"\"✅ np.hsplit()\n",
    "Horizontal splitter (splits along columns, i.e., axis=1).\n",
    "\n",
    "Only works for arrays with 2 or more dimensions.\n",
    "\n",
    "Splits only along axis 1 (columns).\n",
    "\n",
    "Requires that the number of columns is divisible by the number of splits.\"\"\"\""
   ]
  },
  {
   "cell_type": "code",
   "execution_count": null,
   "id": "12da2bef-cb55-4c46-98a2-54fcdf04df71",
   "metadata": {},
   "outputs": [],
   "source": [
    "\"\"\" np.array_split()\n",
    "General-purpose splitter – can split along any axis.\n",
    "\n",
    "Can split unevenly (i.e., parts can be different sizes).\n",
    "\n",
    "Syntax:\"\"\""
   ]
  }
 ],
 "metadata": {
  "kernelspec": {
   "display_name": "Python 3 (ipykernel)",
   "language": "python",
   "name": "python3"
  },
  "language_info": {
   "codemirror_mode": {
    "name": "ipython",
    "version": 3
   },
   "file_extension": ".py",
   "mimetype": "text/x-python",
   "name": "python",
   "nbconvert_exporter": "python",
   "pygments_lexer": "ipython3",
   "version": "3.12.5"
  }
 },
 "nbformat": 4,
 "nbformat_minor": 5
}
