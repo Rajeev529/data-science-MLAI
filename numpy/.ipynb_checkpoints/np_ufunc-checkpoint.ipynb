{
 "cells": [
  {
   "cell_type": "markdown",
   "id": "f20ab386-fc34-4c3c-bd0e-4893db9eb43f",
   "metadata": {},
   "source": [
    "# A ufunc is a special function provided by NumPy that performs fast operations on arrays without writing loops. Most basic operations (like +, -, sin, exp, etc.) are implemented as ufuncs."
   ]
  },
  {
   "cell_type": "markdown",
   "id": "7d9145f3-32d7-471e-a545-ac371987b682",
   "metadata": {},
   "source": [
    "Ufunc\tDescription\n",
    "np.add:\tElement-wise addition\n",
    "np.subtract:\tElement-wise subtraction\n",
    "np.multiply:\tElement-wise multiplication\n",
    "np.divide:\tElement-wise division\n",
    "np.sin, np.exp :\tMathematical functions\n",
    ".reduce(): \tReduce to a single value\n",
    ".accumulate():\tCumulative result\n",
    "np.absolute: turn -ve to +ve"
   ]
  },
  {
   "cell_type": "code",
   "execution_count": 12,
   "id": "98afa3dd-443b-488e-b275-4d2cbe171d08",
   "metadata": {},
   "outputs": [
    {
     "name": "stdout",
     "output_type": "stream",
     "text": [
      "add:  [10 21 32 43 54]\n",
      "subtract  [-10 -19 -28 -37 -46]\n",
      "subtract:  [10 19 28 37 46]\n",
      "multiply:  [  0  20  60 120 200]\n"
     ]
    }
   ],
   "source": [
    "import numpy as np\n",
    "a=np.array([0,1,2,3,4])\n",
    "b=np.array([10,20,30,40,50])\n",
    "\n",
    "print(\"add: \",np.add(a,b))\n",
    "print(\"subtract \",np.subtract(a,b))\n",
    "print(\"subtract: \",np.subtract(b,a))\n",
    "print(\"multiply: \",np.multiply(a,b))"
   ]
  },
  {
   "cell_type": "code",
   "execution_count": 16,
   "id": "fc734d42-d2c4-434c-9952-0cbb7df6d6f5",
   "metadata": {},
   "outputs": [
    {
     "name": "stdout",
     "output_type": "stream",
     "text": [
      "sin value:  [0.00000000e+00 8.66025404e-01 1.00000000e+00 1.22464680e-16]\n",
      "cos value:  [ 1.000000e+00  5.000000e-01  6.123234e-17 -1.000000e+00]\n",
      "cos value:  [ 1.          2.84965391  4.81047738 23.14069263]\n"
     ]
    }
   ],
   "source": [
    "# propper mathematical opratio\n",
    "x=np.array([0,np.pi/3, np.pi/2, np.pi]);\n",
    "\n",
    "print(\"sin value: \", np.sin(x))\n",
    "print(\"cos value: \", np.cos(x))\n",
    "print(\"cos value: \", np.exp(x))"
   ]
  },
  {
   "cell_type": "code",
   "execution_count": null,
   "id": "310dfc90-7b6c-4593-9f9a-2710eb35e484",
   "metadata": {},
   "outputs": [],
   "source": []
  },
  {
   "cell_type": "code",
   "execution_count": 20,
   "id": "4421d2f0-dae4-410e-b1b2-c9b4ccde73bc",
   "metadata": {},
   "outputs": [
    {
     "name": "stdout",
     "output_type": "stream",
     "text": [
      "10\n",
      "24\n",
      "[ 1  2  6 24]\n"
     ]
    }
   ],
   "source": [
    "print(np.add.reduce([1, 2, 3, 4]))  # 10\n",
    "print(np.multiply.reduce([1, 2, 3, 4]))  # [1 2 6 24]\n",
    "print(np.multiply.accumulate([1, 2, 3, 4]))  # [1 2 6 24]"
   ]
  },
  {
   "cell_type": "markdown",
   "id": "5c7dfd95-a3e2-4dec-b979-58faeba9e76d",
   "metadata": {},
   "source": [
    "# custom user define unfunc"
   ]
  },
  {
   "cell_type": "code",
   "execution_count": 21,
   "id": "c85fa910-eb02-4464-823b-e8258fd4cd00",
   "metadata": {},
   "outputs": [
    {
     "name": "stdout",
     "output_type": "stream",
     "text": [
      "[4 4 4]\n"
     ]
    }
   ],
   "source": [
    "def add(a,b):\n",
    "    return a+b;\n",
    "add_func=np.frompyfunc(add,2,1) # perform add operation, take two array input, return single result\n",
    "print(add_func([1,2,3],[3,2,1]))"
   ]
  }
 ],
 "metadata": {
  "kernelspec": {
   "display_name": "Python 3 (ipykernel)",
   "language": "python",
   "name": "python3"
  },
  "language_info": {
   "codemirror_mode": {
    "name": "ipython",
    "version": 3
   },
   "file_extension": ".py",
   "mimetype": "text/x-python",
   "name": "python",
   "nbconvert_exporter": "python",
   "pygments_lexer": "ipython3",
   "version": "3.12.5"
  }
 },
 "nbformat": 4,
 "nbformat_minor": 5
}
