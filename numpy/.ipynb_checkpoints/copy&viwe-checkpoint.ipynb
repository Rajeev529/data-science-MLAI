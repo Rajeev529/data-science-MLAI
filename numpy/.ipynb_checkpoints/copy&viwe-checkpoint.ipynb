{
 "cells": [
  {
   "cell_type": "code",
   "execution_count": 4,
   "id": "67937267-e04b-4e76-aaeb-bc21977638ba",
   "metadata": {},
   "outputs": [
    {
     "name": "stdout",
     "output_type": "stream",
     "text": [
      "[1 2 3 4 5]\n",
      "[100   2   3   4   5]\n"
     ]
    }
   ],
   "source": [
    "import numpy as np\n",
    "a=np.array([1,2,3,4,5])\n",
    "b=a.copy()\n",
    "b[0]=100\n",
    "print(a)\n",
    "print(b)"
   ]
  },
  {
   "cell_type": "code",
   "execution_count": 9,
   "id": "0546f4df-4ec9-47e5-b925-840bf664f5db",
   "metadata": {},
   "outputs": [
    {
     "name": "stdout",
     "output_type": "stream",
     "text": [
      "[100   2   3   4   5   6]\n",
      "[100   2   3   4   5   6]\n"
     ]
    }
   ],
   "source": [
    "# here b is imaginary temp array which only show not take extra space like in copy()\n",
    "import numpy as np\n",
    "a=np.array([1,2,3,4,5,6])\n",
    "b=a.view()\n",
    "b[0]=100\n",
    "print(a)\n",
    "print(b)"
   ]
  },
  {
   "cell_type": "markdown",
   "id": "930e1e7b-3690-4101-b970-8c8a92176df1",
   "metadata": {},
   "source": [
    "# revision"
   ]
  },
  {
   "cell_type": "code",
   "execution_count": 1,
   "id": "d4fd7ee4-0c1c-4e07-b472-5d1b09431b09",
   "metadata": {},
   "outputs": [
    {
     "name": "stdout",
     "output_type": "stream",
     "text": [
      "[100   2   3   4   5]\n",
      "[1 2 3 4 5]\n"
     ]
    }
   ],
   "source": [
    "import numpy as np\n",
    "a=np.array([1,2,3,4,5])\n",
    "b=a.copy()\n",
    "a[0]=100\n",
    "print(a)\n",
    "print(b)"
   ]
  },
  {
   "cell_type": "code",
   "execution_count": 6,
   "id": "f257169f-c801-4db4-9e3a-37bf1d4575b9",
   "metadata": {},
   "outputs": [
    {
     "name": "stdout",
     "output_type": "stream",
     "text": [
      "[100   2   3   4   5]\n",
      "[100   2   3   4   5]\n"
     ]
    }
   ],
   "source": [
    "import numpy as np\n",
    "x=np.array([1,2,3,4,5])\n",
    "y=x.view()\n",
    "x[0]=100\n",
    "print(x)\n",
    "print(y)"
   ]
  },
  {
   "cell_type": "markdown",
   "id": "b60b6dd3-650c-4163-b6a7-2c8d1dfdabf5",
   "metadata": {},
   "source": [
    "# shape array"
   ]
  },
  {
   "cell_type": "code",
   "execution_count": 13,
   "id": "23b50a3a-bd53-4051-9d26-34e542d12d3f",
   "metadata": {},
   "outputs": [
    {
     "name": "stdout",
     "output_type": "stream",
     "text": [
      "[[ 1  2  3  4  5  6]\n",
      " [ 8  9  9  9  8 10]]\n",
      "row:  2\n",
      "col:  6\n"
     ]
    }
   ],
   "source": [
    "import numpy as np\n",
    "a=np.array([[1,2,3,4,5,6],[8,9,9,9,8,10]])\n",
    "print(a)\n",
    "print('row: ',a.shape[0])\n",
    "print('col: ',a.shape[1])"
   ]
  },
  {
   "cell_type": "markdown",
   "id": "93891167-9835-4310-aaa9-209abb1e7cc3",
   "metadata": {},
   "source": [
    "# reshape array"
   ]
  },
  {
   "cell_type": "code",
   "execution_count": 14,
   "id": "70c68e61-afba-48c8-9dbc-72aecc634686",
   "metadata": {},
   "outputs": [
    {
     "name": "stdout",
     "output_type": "stream",
     "text": [
      "[[1 2 3 4]\n",
      " [5 6 7 8]]\n"
     ]
    }
   ],
   "source": [
    "import numpy as np\n",
    "a=np.array([1,2,3,4,5,6,7,8])\n",
    "b=a.reshape(2,4) # break kro a array ko into 2 with each elem 4\n",
    "print(b)"
   ]
  },
  {
   "cell_type": "code",
   "execution_count": 16,
   "id": "739e3ba6-e821-41b0-8a92-e609e9f34693",
   "metadata": {},
   "outputs": [
    {
     "name": "stdout",
     "output_type": "stream",
     "text": [
      "[[[ 1  2]\n",
      "  [ 3  4]\n",
      "  [ 5  6]]\n",
      "\n",
      " [[ 7  8]\n",
      "  [ 9 10]\n",
      "  [11 12]]]\n"
     ]
    }
   ],
   "source": [
    "import numpy as np\n",
    "a=np.array([1,2,3,4,5,6,7,8,9,10,11,12])\n",
    "b=a.reshape(2,3,2) # break kro a array ko into 2 fir uske dono part ko 3-3 m divide kro with each elem 2\n",
    "print(b)"
   ]
  },
  {
   "cell_type": "code",
   "execution_count": 18,
   "id": "6c97a78a-1100-4d7d-8814-480bc62651ce",
   "metadata": {},
   "outputs": [
    {
     "name": "stdout",
     "output_type": "stream",
     "text": [
      "1\n",
      "2\n",
      "3\n",
      "4\n",
      "15\n",
      "16\n",
      "17\n",
      "18\n"
     ]
    }
   ],
   "source": [
    "import numpy as np\n",
    "a=np.array([[1,2,3,4],[15,16,17,18]])\n",
    "for i in np.nditer(a):  # for 2d,3d,4d.. print krne k liye multiple loop lgte hai whi  ye single function ki call pe sara data dedeta hai\n",
    "    print(i) #nditer=nd+iter"
   ]
  }
 ],
 "metadata": {
  "kernelspec": {
   "display_name": "Python 3 (ipykernel)",
   "language": "python",
   "name": "python3"
  },
  "language_info": {
   "codemirror_mode": {
    "name": "ipython",
    "version": 3
   },
   "file_extension": ".py",
   "mimetype": "text/x-python",
   "name": "python",
   "nbconvert_exporter": "python",
   "pygments_lexer": "ipython3",
   "version": "3.12.5"
  }
 },
 "nbformat": 4,
 "nbformat_minor": 5
}
