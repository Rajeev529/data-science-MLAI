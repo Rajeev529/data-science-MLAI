{
 "cells": [
  {
   "cell_type": "markdown",
   "id": "9bea4546-aa35-44a0-8ab4-afba28bb1746",
   "metadata": {},
   "source": [
    "# prob =(count of item)/total no of item"
   ]
  },
  {
   "cell_type": "code",
   "execution_count": 7,
   "id": "d87d18cd-9b99-49a6-b241-fb01e50b1eef",
   "metadata": {},
   "outputs": [
    {
     "name": "stdout",
     "output_type": "stream",
     "text": [
      "[0.5, 0.25, 0.25, 0.5]\n"
     ]
    }
   ],
   "source": [
    "from numpy import random\n",
    "arr=['apple','guava','cake','apple']\n",
    "n=len(arr);\n",
    "dic={}\n",
    "for i in arr:\n",
    "    count=0\n",
    "    for j in arr:\n",
    "        if(i==j):\n",
    "            count=count+1\n",
    "    dic[i]=count/n\n",
    "    \n",
    "print(prob)"
   ]
  },
  {
   "cell_type": "code",
   "execution_count": 26,
   "id": "cabcdf1c-fbcd-40ac-bf3b-b5c058e1af4d",
   "metadata": {},
   "outputs": [
    {
     "name": "stdout",
     "output_type": "stream",
     "text": [
      "[['cake' 'cake' 'cake' 'cake' 'apple' 'apple' 'apple' 'apple' 'cake'\n",
      "  'cake']]\n"
     ]
    }
   ],
   "source": [
    "from numpy import random\n",
    "arr=['apple','guava','cake']\n",
    "prob=[.5,.25,.25]\n",
    "\n",
    "distr=random.choice(arr,p=prob,size=(1,10))\n",
    "print(distr)"
   ]
  }
 ],
 "metadata": {
  "kernelspec": {
   "display_name": "Python 3 (ipykernel)",
   "language": "python",
   "name": "python3"
  },
  "language_info": {
   "codemirror_mode": {
    "name": "ipython",
    "version": 3
   },
   "file_extension": ".py",
   "mimetype": "text/x-python",
   "name": "python",
   "nbconvert_exporter": "python",
   "pygments_lexer": "ipython3",
   "version": "3.12.5"
  }
 },
 "nbformat": 4,
 "nbformat_minor": 5
}
