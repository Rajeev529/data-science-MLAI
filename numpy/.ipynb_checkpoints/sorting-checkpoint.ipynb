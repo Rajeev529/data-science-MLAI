{
 "cells": [
  {
   "cell_type": "markdown",
   "id": "d8f14af2-c52c-40ab-b5e7-6b71cac51b73",
   "metadata": {},
   "source": [
    "# sorting in array"
   ]
  },
  {
   "cell_type": "code",
   "execution_count": null,
   "id": "393548fc-e1cd-4b34-ae81-a4be20e944cb",
   "metadata": {},
   "outputs": [],
   "source": [
    "# ✅ 1. np.sort(): Returns a sorted copy of the array"
   ]
  },
  {
   "cell_type": "code",
   "execution_count": 3,
   "id": "2a89295a-2d75-4272-9203-d75944b3a830",
   "metadata": {},
   "outputs": [
    {
     "name": "stdout",
     "output_type": "stream",
     "text": [
      "[1 2 4 5 6 7 8]\n"
     ]
    }
   ],
   "source": [
    "import numpy as np\n",
    "arr=np.array([8,5,7,6,4,1,2])\n",
    "arrCopy=np.sort(arr)\n",
    "print(arrCopy)"
   ]
  },
  {
   "cell_type": "code",
   "execution_count": 8,
   "id": "43b026cb-03a6-4434-9433-b03bcfaf7b1d",
   "metadata": {},
   "outputs": [
    {
     "name": "stdout",
     "output_type": "stream",
     "text": [
      "[[1 4]\n",
      " [2 3]]\n",
      "[[3 1]\n",
      " [4 2]]\n"
     ]
    }
   ],
   "source": [
    "import numpy as np\n",
    "arr2d = np.array([[4, 1], [3, 2]])\n",
    "arrCopy=np.sort(arr2d, axis=1)  # horizontally sort\n",
    "print(arrCopy)\n",
    "arrCopy=np.sort(arr2d,axis=0)   # vertically sort\n",
    "print(arrCopy)"
   ]
  },
  {
   "cell_type": "code",
   "execution_count": null,
   "id": "61e0be8a-d2cd-4c78-84f2-42952698fefa",
   "metadata": {},
   "outputs": [],
   "source": [
    "# ✅ 3. np.argsort(): Returns the indices that would sort the array"
   ]
  },
  {
   "cell_type": "code",
   "execution_count": 13,
   "id": "e8200076-8930-4766-92e6-f5d7462b92d7",
   "metadata": {},
   "outputs": [
    {
     "name": "stdout",
     "output_type": "stream",
     "text": [
      "[0 2 1]\n"
     ]
    }
   ],
   "source": [
    "import numpy as np\n",
    "arr=np.array([10,40,30])\n",
    "\n",
    "idxs=np.argsort(arr)\n",
    "print(idxs)\n",
    "\n"
   ]
  },
  {
   "cell_type": "code",
   "execution_count": null,
   "id": "dd0b7481-38d1-4e2d-b1cb-419bb68aff33",
   "metadata": {},
   "outputs": [],
   "source": [
    "# 4. np.lexsort((arr1,arr2)): Sort by multiple keys"
   ]
  },
  {
   "cell_type": "code",
   "execution_count": 15,
   "id": "4c028e13-19fc-4401-a106-fe91d4605ca9",
   "metadata": {},
   "outputs": [
    {
     "name": "stdout",
     "output_type": "stream",
     "text": [
      "[2 0 1]\n",
      "['bob' 'luke' 'marie']\n"
     ]
    }
   ],
   "source": [
    "import numpy as np\n",
    "age=np.array([10,40,30])\n",
    "names=np.array(['luke','marie','bob'])\n",
    "idxs=np.lexsort((age,names))\n",
    "print(idxs)\n",
    "print(names[idxs])"
   ]
  },
  {
   "cell_type": "code",
   "execution_count": null,
   "id": "d5389b5a-fbac-456e-a99c-2c2716021f06",
   "metadata": {},
   "outputs": [],
   "source": []
  }
 ],
 "metadata": {
  "kernelspec": {
   "display_name": "Python 3 (ipykernel)",
   "language": "python",
   "name": "python3"
  },
  "language_info": {
   "codemirror_mode": {
    "name": "ipython",
    "version": 3
   },
   "file_extension": ".py",
   "mimetype": "text/x-python",
   "name": "python",
   "nbconvert_exporter": "python",
   "pygments_lexer": "ipython3",
   "version": "3.12.5"
  }
 },
 "nbformat": 4,
 "nbformat_minor": 5
}
