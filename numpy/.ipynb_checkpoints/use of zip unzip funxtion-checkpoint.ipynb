{
 "cells": [
  {
   "cell_type": "code",
   "execution_count": 6,
   "id": "41795cb7-5b78-4fba-bb09-2e089178c147",
   "metadata": {},
   "outputs": [],
   "source": [
    "# zip(), take inputs of iterable things like tupple, list\n",
    "# syntax zip(itreatable1, iteratable2, iteratable 3...)\n",
    "\n",
    "# Merging related data from multiple lists\n",
    "\n",
    "# Parallel iteration\n",
    "\n",
    "# Creating dictionaries:"
   ]
  },
  {
   "cell_type": "markdown",
   "id": "3e90b31f-39a7-4955-8a6c-2a62ff2a1452",
   "metadata": {},
   "source": [
    "# zipping two list "
   ]
  },
  {
   "cell_type": "code",
   "execution_count": 10,
   "id": "330c1252-0518-4101-9bcc-68b7d497eb20",
   "metadata": {},
   "outputs": [
    {
     "name": "stdout",
     "output_type": "stream",
     "text": [
      "[('banana', 10), ('apple', 21), ('guava', 16)]\n",
      "dictionary:  {'banana': 10, 'apple': 21, 'guava': 16}\n"
     ]
    }
   ],
   "source": [
    "import numpy as np\n",
    "fruits=['banana', 'apple', 'guava']\n",
    "price=[10,21,16]\n",
    "\n",
    "zipped=zip(fruits, price)\n",
    "\n",
    "print(list(zipped))\n",
    "print(\"dictionary: \",dict(zip(fruits,price)))"
   ]
  },
  {
   "cell_type": "markdown",
   "id": "baa4c03b-fc04-40f4-aa9a-c002f438cdfc",
   "metadata": {},
   "source": [
    "# looping with zip"
   ]
  },
  {
   "cell_type": "code",
   "execution_count": 5,
   "id": "fad51adf-4acb-48d5-8637-5172c9267b08",
   "metadata": {},
   "outputs": [
    {
     "name": "stdout",
     "output_type": "stream",
     "text": [
      "fruit:  banana  price:  10 rs\n",
      "fruit:  apple  price:  21 rs\n",
      "fruit:  guava  price:  16 rs\n"
     ]
    }
   ],
   "source": [
    "import numpy as np\n",
    "fruits=['banana', 'apple', 'guava']\n",
    "price=[10,21,16]\n",
    "\n",
    "for x,y in(zip(fruits,price)):\n",
    "    print(\"fruit: \",x,\" price: \",y,\"rs\")"
   ]
  },
  {
   "cell_type": "markdown",
   "id": "a302e6a1-6d34-4abf-b8ee-27424c789adb",
   "metadata": {},
   "source": [
    "# unziped using *"
   ]
  },
  {
   "cell_type": "code",
   "execution_count": 8,
   "id": "2f3fc950-4fcd-4780-9c9e-808a82dd0e50",
   "metadata": {},
   "outputs": [
    {
     "name": "stdout",
     "output_type": "stream",
     "text": [
      "('banana', 'apple', 'guava')\n",
      "(10, 21, 16)\n"
     ]
    }
   ],
   "source": [
    "import numpy as np\n",
    "fruits=['banana', 'apple', 'guava']\n",
    "price=[10,21,16]\n",
    "zipped=zip(fruits,price)\n",
    "\n",
    "x,y=zip(*zipped)\n",
    "print(x)\n",
    "print(y)"
   ]
  },
  {
   "cell_type": "code",
   "execution_count": null,
   "id": "28db066d-3cf6-41d3-a0db-8a64b20480e9",
   "metadata": {},
   "outputs": [],
   "source": []
  }
 ],
 "metadata": {
  "kernelspec": {
   "display_name": "Python 3 (ipykernel)",
   "language": "python",
   "name": "python3"
  },
  "language_info": {
   "codemirror_mode": {
    "name": "ipython",
    "version": 3
   },
   "file_extension": ".py",
   "mimetype": "text/x-python",
   "name": "python",
   "nbconvert_exporter": "python",
   "pygments_lexer": "ipython3",
   "version": "3.12.5"
  }
 },
 "nbformat": 4,
 "nbformat_minor": 5
}
