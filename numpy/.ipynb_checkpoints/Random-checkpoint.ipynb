{
 "cells": [
  {
   "cell_type": "markdown",
   "id": "a9749c10-abb4-40a7-a96f-6723b19ab520",
   "metadata": {},
   "source": [
    "# 🔹 1. np.random.rand()\n",
    "Generates random floats in [0, 1) (uniform distribution)."
   ]
  },
  {
   "cell_type": "code",
   "execution_count": 17,
   "id": "0c8ab1ff-0d63-4ad5-881d-a372d5b7c2c3",
   "metadata": {},
   "outputs": [
    {
     "name": "stdout",
     "output_type": "stream",
     "text": [
      "0.12930728488211285\n",
      "0.23977996153827907\n",
      "0.19783151379759634\n"
     ]
    }
   ],
   "source": [
    "from numpy import random\n",
    "\n",
    "print(random.rand())\n",
    "print(random.rand())\n",
    "print(random.rand())"
   ]
  },
  {
   "cell_type": "markdown",
   "id": "5cf3cdda-42d0-4f31-b60a-d6b9bd560eec",
   "metadata": {},
   "source": [
    "# 2. np.random.randn()\n",
    "Generates random numbers from standard normal distribution (mean=0, std=1)."
   ]
  },
  {
   "cell_type": "code",
   "execution_count": 22,
   "id": "6edafbcf-2750-424f-93b8-0873f6c5565b",
   "metadata": {},
   "outputs": [
    {
     "name": "stdout",
     "output_type": "stream",
     "text": [
      "1.4773489157655888\n",
      "-0.8393993912138259\n",
      "-0.9600552957745788\n"
     ]
    }
   ],
   "source": [
    "from numpy import random\n",
    "\n",
    "print(random.randn())\n",
    "print(random.randn())\n",
    "print(random.randn())"
   ]
  },
  {
   "cell_type": "markdown",
   "id": "99c298e2-d65f-4db0-a25d-db146b658922",
   "metadata": {},
   "source": [
    "# 3. np.random.randint(low, high, size)\n",
    "Generates random integers from low (inclusive) to high (exclusive)."
   ]
  },
  {
   "cell_type": "code",
   "execution_count": 26,
   "id": "c9365e27-f874-403f-bc81-3c6b1f381c5d",
   "metadata": {},
   "outputs": [
    {
     "name": "stdout",
     "output_type": "stream",
     "text": [
      "[114 112 168 179 142 197 153 115 164 154 171 187 128 189 143]\n",
      "121\n"
     ]
    }
   ],
   "source": [
    "from numpy import random\n",
    "print(random.randint(99,199,15)) #size =15 of printed array\n",
    "print(random.randint(99,199))"
   ]
  },
  {
   "cell_type": "markdown",
   "id": "92f02a36-a7b3-4f09-a42d-23fcbce82cc6",
   "metadata": {},
   "source": [
    "# 4. np.random.choice(array,size,bool)\n",
    "Randomly selects elements from a list or array."
   ]
  },
  {
   "cell_type": "code",
   "execution_count": 41,
   "id": "f620153c-6f5e-4232-92dc-729dca205c6d",
   "metadata": {},
   "outputs": [
    {
     "name": "stdout",
     "output_type": "stream",
     "text": [
      "5\n",
      "[3 1 8 8 1 8 8 9 5 3 3 3 9 7 3]\n",
      "[7 9 8 3 3 5 1]\n"
     ]
    }
   ],
   "source": [
    "from numpy import random\n",
    "arr=[1,7,3,8,9,3,5]\n",
    "print(random.choice(arr))\n",
    "print(random.choice(arr,15))\n",
    "print(random.choice(arr,7,False)) # if you selected bool then size must be equal to the array"
   ]
  },
  {
   "cell_type": "markdown",
   "id": "f6116ede-525a-4ac2-b712-6de6aa4f4cec",
   "metadata": {},
   "source": [
    "# 5. np.random.shuffle()\n",
    "Shuffles a NumPy array in place."
   ]
  },
  {
   "cell_type": "code",
   "execution_count": 50,
   "id": "8248c68c-1028-4a0f-b3d5-0d8f598d2f87",
   "metadata": {},
   "outputs": [
    {
     "name": "stdout",
     "output_type": "stream",
     "text": [
      "None\n",
      "None\n"
     ]
    }
   ],
   "source": [
    "from numpy import random\n",
    "arr=[1,7,3,8,9,3,5]\n",
    "b=random.shuffle(arr)\n",
    "print(b)\n",
    "print(random.shuffle(arr))"
   ]
  },
  {
   "cell_type": "code",
   "execution_count": null,
   "id": "a02a9cd5-d549-4017-b2cf-38fce5fccfb7",
   "metadata": {},
   "outputs": [],
   "source": []
  }
 ],
 "metadata": {
  "kernelspec": {
   "display_name": "Python 3 (ipykernel)",
   "language": "python",
   "name": "python3"
  },
  "language_info": {
   "codemirror_mode": {
    "name": "ipython",
    "version": 3
   },
   "file_extension": ".py",
   "mimetype": "text/x-python",
   "name": "python",
   "nbconvert_exporter": "python",
   "pygments_lexer": "ipython3",
   "version": "3.12.5"
  }
 },
 "nbformat": 4,
 "nbformat_minor": 5
}
