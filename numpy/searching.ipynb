{
 "cells": [
  {
   "cell_type": "markdown",
   "id": "3ce7f61e-0f97-4c88-bd91-1c270f1f98ce",
   "metadata": {},
   "source": [
    "# np.where()"
   ]
  },
  {
   "cell_type": "code",
   "execution_count": null,
   "id": "a6df2db4-7f90-4a26-8559-e88c0c0ae68b",
   "metadata": {},
   "outputs": [],
   "source": [
    "# Purpose: Returns indices where a condition is True. It can also be used as a vectorized if-else"
   ]
  },
  {
   "cell_type": "code",
   "execution_count": 3,
   "id": "1a31fbd9-d84e-45ad-b5c8-3715a56c0597",
   "metadata": {},
   "outputs": [
    {
     "name": "stdout",
     "output_type": "stream",
     "text": [
      "print idx:  (array([3]),)\n",
      "value at index:  [4]\n"
     ]
    }
   ],
   "source": [
    "import numpy as np\n",
    "arr=np.array([1,2,3,4,5,6])\n",
    "idx=np.where(arr==4)\n",
    "print(\"print idx: \",idx)\n",
    "print(\"value at index: \",arr[idx])"
   ]
  },
  {
   "cell_type": "code",
   "execution_count": 7,
   "id": "dd8a1e08-74ce-4e51-a488-867a9c37323c",
   "metadata": {},
   "outputs": [
    {
     "name": "stdout",
     "output_type": "stream",
     "text": [
      "(array([3, 4, 5, 6]),)\n",
      "[5 6 7 8]\n"
     ]
    }
   ],
   "source": [
    "import numpy as np\n",
    "arr=np.array([1,2,3,5,6,7,8])\n",
    "idx=np.where(arr>=4)\n",
    "print(\"where the val greater and equal to 4\",idx)\n",
    "print(arr[idx])"
   ]
  },
  {
   "cell_type": "code",
   "execution_count": 11,
   "id": "7cea0ea9-ef6f-497d-b2db-6314247bd4f8",
   "metadata": {},
   "outputs": [
    {
     "name": "stdout",
     "output_type": "stream",
     "text": [
      "(array([1, 4, 6]),)\n",
      "['odd' 'even' 'odd' 'odd' 'even' 'odd' 'even']\n"
     ]
    }
   ],
   "source": [
    "import numpy as np\n",
    "arr=np.array([1,2,3,5,6,7,8])\n",
    "idxs=np.where(arr%2==0)\n",
    "print(idxs)\n",
    "idxs=np.where(arr%2==0,'even', 'odd') #it is like an comparator in c++ iftrue return these else that\n",
    "print(idxs)"
   ]
  },
  {
   "cell_type": "markdown",
   "id": "8d7cb747-16a8-4e91-8ce5-2296ac33ea6d",
   "metadata": {},
   "source": [
    "# ✅ np.searchsorted()"
   ]
  },
  {
   "cell_type": "code",
   "execution_count": null,
   "id": "80cafad1-9c0f-4e0a-adb7-2357fbc55bd5",
   "metadata": {},
   "outputs": [],
   "source": [
    "\"\"\"✅ np.searchsorted()\n",
    "Purpose: Finds indices where elements should be inserted to maintain order in a sorted array.\n",
    "\n",
    "🔹 Syntax\n",
    "\n",
    "np.searchsorted(sorted_array, values, side='left' or 'right')\n",
    "side='left': returns the first suitable location\n",
    "\n",
    "side='right': returns the last suitable location\"\"\""
   ]
  },
  {
   "cell_type": "code",
   "execution_count": 17,
   "id": "eb84194a-8306-4248-952d-cfc0cd29706b",
   "metadata": {},
   "outputs": [
    {
     "name": "stdout",
     "output_type": "stream",
     "text": [
      "4\n",
      "5\n",
      "[0 6]\n"
     ]
    }
   ],
   "source": [
    "import numpy as np\n",
    "arr=np.array([1,2,3,4,5,6])\n",
    "idx=np.searchsorted(arr,5,side='left')\n",
    "print(idx)\n",
    "idx=np.searchsorted(arr,5,side='right')\n",
    "print(idx)\n",
    "idx=np.searchsorted(arr,[.5,7])\n",
    "print(idx)"
   ]
  }
 ],
 "metadata": {
  "kernelspec": {
   "display_name": "Python 3 (ipykernel)",
   "language": "python",
   "name": "python3"
  },
  "language_info": {
   "codemirror_mode": {
    "name": "ipython",
    "version": 3
   },
   "file_extension": ".py",
   "mimetype": "text/x-python",
   "name": "python",
   "nbconvert_exporter": "python",
   "pygments_lexer": "ipython3",
   "version": "3.12.5"
  }
 },
 "nbformat": 4,
 "nbformat_minor": 5
}
