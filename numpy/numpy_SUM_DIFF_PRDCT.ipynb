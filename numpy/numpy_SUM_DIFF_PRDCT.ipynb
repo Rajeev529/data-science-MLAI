{
 "cells": [
  {
   "cell_type": "markdown",
   "id": "e25c3e55-b866-4756-9b35-6c3fc15f957f",
   "metadata": {},
   "source": [
    "#  Syntax:\n",
    "\n",
    "# np.diff(array, n=1)\n",
    "\n",
    "# array: Input array\n",
    "\n",
    "# n: Number of times to repeat the differencing (default is 1)"
   ]
  },
  {
   "cell_type": "code",
   "execution_count": 2,
   "id": "f68b4b5d-69c2-43af-8bd6-2ed521b321fd",
   "metadata": {},
   "outputs": [
    {
     "name": "stdout",
     "output_type": "stream",
     "text": [
      "[3 2 3 2]\n",
      "[-1  1 -1]\n"
     ]
    }
   ],
   "source": [
    "import numpy as np\n",
    "a=np.array([1,4,6,9,11])\n",
    "print(np.diff(a,n=1))\n",
    "print(np.diff(a,n=2))"
   ]
  },
  {
   "cell_type": "markdown",
   "id": "f03fee03-9e1f-4b56-b871-08ae7e658f61",
   "metadata": {},
   "source": [
    "# product"
   ]
  },
  {
   "cell_type": "code",
   "execution_count": 6,
   "id": "1356af1b-fab9-4df1-9d2a-ded3e6b8fd75",
   "metadata": {},
   "outputs": [
    {
     "name": "stdout",
     "output_type": "stream",
     "text": [
      "24\n"
     ]
    }
   ],
   "source": [
    "import numpy as np\n",
    "a=np.array([1,2,3,4])\n",
    "print(np.prod(a))"
   ]
  },
  {
   "cell_type": "markdown",
   "id": "7f45525f-5523-472b-bc0c-c35a88c1c986",
   "metadata": {},
   "source": [
    "# sum"
   ]
  },
  {
   "cell_type": "code",
   "execution_count": 7,
   "id": "66bf6874-3da7-4a4f-bb22-625ae16d15a3",
   "metadata": {},
   "outputs": [
    {
     "name": "stdout",
     "output_type": "stream",
     "text": [
      "10\n"
     ]
    }
   ],
   "source": [
    "import numpy as np\n",
    "a=np.array([1,2,3,4])\n",
    "print(np.sum(a))"
   ]
  }
 ],
 "metadata": {
  "kernelspec": {
   "display_name": "Python 3 (ipykernel)",
   "language": "python",
   "name": "python3"
  },
  "language_info": {
   "codemirror_mode": {
    "name": "ipython",
    "version": 3
   },
   "file_extension": ".py",
   "mimetype": "text/x-python",
   "name": "python",
   "nbconvert_exporter": "python",
   "pygments_lexer": "ipython3",
   "version": "3.12.5"
  }
 },
 "nbformat": 4,
 "nbformat_minor": 5
}
