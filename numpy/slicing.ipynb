{
 "cells": [
  {
   "cell_type": "code",
   "execution_count": 5,
   "id": "0d27389f-df5d-44b4-82f8-ab6c235a3acf",
   "metadata": {},
   "outputs": [
    {
     "name": "stdout",
     "output_type": "stream",
     "text": [
      "[0 1 2 3 4 5 6 7 8]\n",
      "print element from 5 to 7:  [5 6 7]\n",
      "print element from 0 to 8:  [0 1 2 3 4 5 6 7]\n",
      "print element from 5 to 8:  [5 6 7 8]\n"
     ]
    }
   ],
   "source": [
    "import numpy as np\n",
    "x=np.array([0,1,2,3,4,5,6,7,8])\n",
    "print(x)\n",
    "print(\"print element from 5 to 7: \",x[5:8])\n",
    "print(\"print element from 0 to 8: \",x[:8])\n",
    "print(\"print element from 5 to 8: \",x[5:])"
   ]
  },
  {
   "cell_type": "code",
   "execution_count": 13,
   "id": "03da8762-eeab-4d92-89fb-d2ba011e87fb",
   "metadata": {},
   "outputs": [
    {
     "name": "stdout",
     "output_type": "stream",
     "text": [
      "print element on index diffrence 2:  [1 3 5]\n",
      "print element of array on diffrence 2:  [0 2 4 6 8]\n",
      "print element of array on diffrence 3:  [0 3 6]\n"
     ]
    }
   ],
   "source": [
    "import numpy as np\n",
    "x=np.array([0,1,2,3,4,5,6,7,8])\n",
    "print(\"print element on index diffrence 2: \",x[1:7:2])\n",
    "print(\"print element of array on diffrence 2: \",x[::2])\n",
    "print(\"print element of array on diffrence 3: \",x[::3])"
   ]
  },
  {
   "cell_type": "code",
   "execution_count": 16,
   "id": "31e94866-2761-4074-8908-19fbc994f72d",
   "metadata": {},
   "outputs": [
    {
     "name": "stdout",
     "output_type": "stream",
     "text": [
      "Even element:  [0 2 4 6 8]\n",
      "Odd elemnts:  [1 3 5 7]\n"
     ]
    }
   ],
   "source": [
    "import numpy as np\n",
    "x=np.array([0,1,2,3,4,5,6,7,8])\n",
    "print(\"Even element: \",x[::2])\n",
    "print(\"Odd elemnts: \",x[1::2])"
   ]
  },
  {
   "cell_type": "code",
   "execution_count": 19,
   "id": "f1f337fd-5988-49b9-807d-54f4b43f0cd5",
   "metadata": {},
   "outputs": [
    {
     "name": "stdout",
     "output_type": "stream",
     "text": [
      "[11 12 13]\n"
     ]
    }
   ],
   "source": [
    "import numpy as np\n",
    "x1=np.array([[0,1,2,3,4],[0,11,12,13,14]])\n",
    "print(x1[1,1:4])"
   ]
  },
  {
   "cell_type": "code",
   "execution_count": 21,
   "id": "4ed8c212-25ab-4dae-ad84-9fb49fd92da6",
   "metadata": {},
   "outputs": [
    {
     "name": "stdout",
     "output_type": "stream",
     "text": [
      "same result:  3\n",
      "same result:  8\n",
      "[3 8]\n"
     ]
    }
   ],
   "source": [
    "import numpy as np\n",
    "sharad = np.array([[1,2,3,4,5], [6,7,8,9,10]])\n",
    "print(\"same result: \",sharad[0][2])\n",
    "print(\"same result: \",sharad[1][2])\n",
    "print(sharad[0:2, 2])"
   ]
  },
  {
   "cell_type": "code",
   "execution_count": 29,
   "id": "091a644f-cdf1-4aad-b6f1-11afa4241398",
   "metadata": {},
   "outputs": [
    {
     "name": "stdout",
     "output_type": "stream",
     "text": [
      "res1:  [3 4]\n",
      "res2:  [8 9]\n",
      "res3:  [13 14]\n",
      "res1+ res2+ res3: /n [[ 3  4]\n",
      " [ 8  9]\n",
      " [13 14]]\n"
     ]
    }
   ],
   "source": [
    "import numpy as np\n",
    "sharad = np.array([[1,2,3,4,5], [6,7,8,9,10],[11,12,13,14,15]])\n",
    "print(\"res1: \",sharad[0, 2:4])\n",
    "print(\"res2: \",sharad[1, 2:4])\n",
    "print(\"res3: \",sharad[2, 2:4])\n",
    "print(\"res1+ res2+ res3: \",sharad[0:3, 2:4])"
   ]
  },
  {
   "cell_type": "code",
   "execution_count": 4,
   "id": "72ad121c-95e3-432b-bd36-eb5bc5098009",
   "metadata": {},
   "outputs": [
    {
     "name": "stdout",
     "output_type": "stream",
     "text": [
      "40\n",
      "[ 30 300]\n"
     ]
    }
   ],
   "source": [
    "import numpy as np\n",
    "a=np.array([[1,2,3,4,5],[10,20,30,40,50],[100,200,300,400,500]])\n",
    "print(a[1,3])\n",
    "print(a[1:4,2])\n",
    "# row1,col2\n",
    "# row2,col2\n",
    "# row3,col2"
   ]
  },
  {
   "cell_type": "code",
   "execution_count": 5,
   "id": "2dd0520f-e432-46d4-98d7-858c688ad10f",
   "metadata": {},
   "outputs": [
    {
     "name": "stdout",
     "output_type": "stream",
     "text": [
      "40\n",
      "[[  1   2   3   4]\n",
      " [ 10  20  30  40]\n",
      " [100 200 300 400]]\n"
     ]
    }
   ],
   "source": [
    "import numpy as np\n",
    "a=np.array([[1,2,3,4,5],[10,20,30,40,50],[100,200,300,400,500]])\n",
    "print(a[1,3])\n",
    "print(a[0:4,0:4])\n",
    "# row1,col0, col1, col2, col4\n",
    "# row2,col2\n",
    "# row3,col2"
   ]
  },
  {
   "cell_type": "code",
   "execution_count": null,
   "id": "9cc163ba-f2c3-4e4e-9d22-17f94d7d269d",
   "metadata": {},
   "outputs": [],
   "source": [
    "# array[start:stop:step]\n",
    "# start: index to start from (inclusive)\n",
    "\n",
    "# stop: index to stop at (exclusive)\n",
    "\n",
    "# step: stride between elements"
   ]
  }
 ],
 "metadata": {
  "kernelspec": {
   "display_name": "Python 3 (ipykernel)",
   "language": "python",
   "name": "python3"
  },
  "language_info": {
   "codemirror_mode": {
    "name": "ipython",
    "version": 3
   },
   "file_extension": ".py",
   "mimetype": "text/x-python",
   "name": "python",
   "nbconvert_exporter": "python",
   "pygments_lexer": "ipython3",
   "version": "3.12.5"
  }
 },
 "nbformat": 4,
 "nbformat_minor": 5
}
