{
 "cells": [
  {
   "cell_type": "markdown",
   "id": "67762a86-4a5d-414c-8f35-2e1b696e807c",
   "metadata": {},
   "source": [
    "# these is what you already learned in class 11th maths ch1 sets"
   ]
  },
  {
   "cell_type": "code",
   "execution_count": null,
   "id": "8f795c8a-61f8-44f2-8983-44be69c3258d",
   "metadata": {},
   "outputs": [],
   "source": [
    "# 1.) unique for unique elements"
   ]
  },
  {
   "cell_type": "code",
   "execution_count": 3,
   "id": "97f76b92-09df-442a-a6ab-1af494ad0e55",
   "metadata": {},
   "outputs": [
    {
     "name": "stdout",
     "output_type": "stream",
     "text": [
      "[1 2 3 4 5 6 7]\n"
     ]
    }
   ],
   "source": [
    "import numpy as np\n",
    "a=np.array([1,1,2,3,4,4,5,6,6,7])\n",
    "print(np.unique(a))\n"
   ]
  },
  {
   "cell_type": "code",
   "execution_count": 5,
   "id": "492ead56-831f-480d-b116-c03bdb885d1d",
   "metadata": {},
   "outputs": [
    {
     "name": "stdout",
     "output_type": "stream",
     "text": [
      "[1 2 3 4 5 6 7 8]\n"
     ]
    }
   ],
   "source": [
    "# 2.)union1d of two set\n",
    "a=np.array([1,2,3,4,5])\n",
    "b=np.array([4,5,6,7,8])\n",
    "print(np.union1d(a,b))"
   ]
  },
  {
   "cell_type": "code",
   "execution_count": 6,
   "id": "5989cae9-ef69-4c86-8644-86b9997bc30c",
   "metadata": {},
   "outputs": [
    {
     "name": "stdout",
     "output_type": "stream",
     "text": [
      "[4 5]\n"
     ]
    }
   ],
   "source": [
    "# 3.)intersect1d of two set\n",
    "a=np.array([1,2,3,4,5])\n",
    "b=np.array([4,5,6,7,8])\n",
    "print(np.intersect1d(a,b))"
   ]
  },
  {
   "cell_type": "code",
   "execution_count": 7,
   "id": "9bb73f64-0872-42d1-9b66-d974010c9d83",
   "metadata": {},
   "outputs": [
    {
     "name": "stdout",
     "output_type": "stream",
     "text": [
      "[1 2 3]\n"
     ]
    }
   ],
   "source": [
    "# 4.) np.setdiff1d() – Difference Elements in a not in b:\n",
    "print(np.setdiff1d(a,b))"
   ]
  },
  {
   "cell_type": "code",
   "execution_count": 8,
   "id": "9e1d8e8c-5c6f-489a-8eb3-dd5ef77a229a",
   "metadata": {},
   "outputs": [
    {
     "name": "stdout",
     "output_type": "stream",
     "text": [
      "Union: [1 2 3 4 5 6]\n",
      "Intersection: [3 4]\n",
      "A - B: [1 2]\n",
      "B - A: [5 6]\n",
      "Symmetric: [1 2 5 6]\n"
     ]
    }
   ],
   "source": [
    "a = np.array([1, 2, 3, 4])\n",
    "b = np.array([3, 4, 5, 6])\n",
    "\n",
    "print(\"Union:\",        np.union1d(a, b))\n",
    "print(\"Intersection:\", np.intersect1d(a, b))\n",
    "print(\"A - B:\",        np.setdiff1d(a, b))\n",
    "print(\"B - A:\",        np.setdiff1d(b, a))\n",
    "print(\"Symmetric:\",    np.setxor1d(a, b))"
   ]
  }
 ],
 "metadata": {
  "kernelspec": {
   "display_name": "Python 3 (ipykernel)",
   "language": "python",
   "name": "python3"
  },
  "language_info": {
   "codemirror_mode": {
    "name": "ipython",
    "version": 3
   },
   "file_extension": ".py",
   "mimetype": "text/x-python",
   "name": "python",
   "nbconvert_exporter": "python",
   "pygments_lexer": "ipython3",
   "version": "3.12.5"
  }
 },
 "nbformat": 4,
 "nbformat_minor": 5
}
