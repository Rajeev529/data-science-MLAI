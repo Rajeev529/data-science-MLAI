{
 "cells": [
  {
   "cell_type": "code",
   "execution_count": 3,
   "id": "cd988502-bf00-4c67-8ed7-6a36f75a42a3",
   "metadata": {},
   "outputs": [],
   "source": [
    "# suppose you are given a data and a value of data has 90%ile that means the value is higher than 90 % of each data\n",
    "# use also for outliners for less than 1%ile and greater than 99%ile they are outliners"
   ]
  },
  {
   "cell_type": "code",
   "execution_count": 1,
   "id": "6d020ffc-4a19-4a6d-bc8f-87b9b3be90fc",
   "metadata": {},
   "outputs": [
    {
     "name": "stdout",
     "output_type": "stream",
     "text": [
      "90th percentile: 8.2\n"
     ]
    }
   ],
   "source": [
    "import numpy as np\n",
    "\n",
    "data = [1, 2, 3, 4, 5, 6, 7, 8, 9]\n",
    "p90 = np.percentile(data, 90)\n",
    "print(\"90th percentile:\", p90)  # Output: 8.2\n"
   ]
  },
  {
   "cell_type": "code",
   "execution_count": 6,
   "id": "9f8a1bf6-3d20-4da8-89d6-d7171a520899",
   "metadata": {
    "scrolled": true
   },
   "outputs": [
    {
     "name": "stdout",
     "output_type": "stream",
     "text": [
      "till 75th:  18.0\n",
      "till 50th:  13.0\n",
      "till 25th:  8.0\n"
     ]
    }
   ],
   "source": [
    "# Quartile\n",
    "import numpy as np\n",
    "              #usefull data here\n",
    "data = [5, 7, 8, 12, 13, 14, 18, 21, 23]\n",
    "#      -------25-----50------75-------- \n",
    "p75=np.percentile(data,75)\n",
    "p50=np.percentile(data,50)\n",
    "p25=np.percentile(data,25)\n",
    "\n",
    "print(\"till 75th: \", p75)\n",
    "print(\"till 50th: \", p50)\n",
    "print(\"till 25th: \", p25)"
   ]
  }
 ],
 "metadata": {
  "kernelspec": {
   "display_name": "Python 3 (ipykernel)",
   "language": "python",
   "name": "python3"
  },
  "language_info": {
   "codemirror_mode": {
    "name": "ipython",
    "version": 3
   },
   "file_extension": ".py",
   "mimetype": "text/x-python",
   "name": "python",
   "nbconvert_exporter": "python",
   "pygments_lexer": "ipython3",
   "version": "3.12.5"
  }
 },
 "nbformat": 4,
 "nbformat_minor": 5
}
