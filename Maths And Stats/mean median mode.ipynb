{
 "cells": [
  {
   "cell_type": "code",
   "execution_count": null,
   "id": "09ea1d49-5c7c-4184-9900-03574151b17b",
   "metadata": {},
   "outputs": [],
   "source": [
    "central tendncy mean: avergae, median: intermediat of central elem, mode"
   ]
  },
  {
   "cell_type": "code",
   "execution_count": 2,
   "id": "37969162-a509-4bb2-989d-48ba6ccda173",
   "metadata": {},
   "outputs": [
    {
     "name": "stdout",
     "output_type": "stream",
     "text": [
      "3.0\n",
      "3.0\n"
     ]
    }
   ],
   "source": [
    "import numpy as np\n",
    "arr=[1,2,3,4,5]\n",
    "sum=0\n",
    "for i in arr:\n",
    "    sum=sum+i\n",
    "print(sum/len(arr))\n",
    "\n",
    "arr1=np.array(arr)\n",
    "print(np.mean(arr1))  # simlified by numpy"
   ]
  },
  {
   "cell_type": "code",
   "execution_count": 7,
   "id": "15abacb3-ec0d-4ae8-89e7-8d20e060e106",
   "metadata": {},
   "outputs": [
    {
     "name": "stdout",
     "output_type": "stream",
     "text": [
      "3\n",
      "3.0\n"
     ]
    }
   ],
   "source": [
    "import numpy as np\n",
    "arr=[1,2,3,4,5]\n",
    "# arr=[1,2,3,4,5,6]\n",
    "med=0;\n",
    "n=len(arr)\n",
    "\n",
    "if n%2==0:\n",
    "    med=(arr[int((n/2))-1]+arr[int(n/2)])/2\n",
    "else:\n",
    "    med=arr[int(n/2)]\n",
    "print(med)\n",
    "\n",
    "\n",
    "# from numpy\n",
    "arr1=np.array(arr)\n",
    "print(np.median(arr1))"
   ]
  },
  {
   "cell_type": "code",
   "execution_count": 21,
   "id": "df46c704-0707-40aa-bc3c-73cdfb48936f",
   "metadata": {},
   "outputs": [
    {
     "name": "stdout",
     "output_type": "stream",
     "text": [
      "{4: 3, 1: 1, 2: 2, 3: 1, 5: 1}\n",
      "[3, 1, 2, 1, 1]\n"
     ]
    },
    {
     "data": {
      "image/png": "[encoded data removed]",
      "text/plain": [
       "<Figure size 640x480 with 1 Axes>"
      ]
     },
     "metadata": {},
     "output_type": "display_data"
    }
   ],
   "source": [
    "# mode: hiher frequecy data\n",
    "import numpy as np\n",
    "import matplotlib.pyplot as plt\n",
    "array = [4, 1, 2, 2, 3, 4, 4, 5]\n",
    "freq=freq.fromkeys(array,0)\n",
    "for i in array:\n",
    "    freq[i]=freq[i]+1\n",
    "print(freq)\n",
    "\n",
    "xunit=[]\n",
    "yunit=[]\n",
    "for i, j in freq.items():\n",
    "    xunit.append(i)\n",
    "    yunit.append(j)\n",
    "    # print(i,\": \",j)\n",
    "\n",
    "print(yunit)\n",
    "x=np.array(xunit)\n",
    "y=np.array(yunit)\n",
    "\n",
    "plt.bar(xunit,yunit,alpha=.7,width=.7)\n",
    "plt.show()\n"
   ]
  },
  {
   "cell_type": "code",
   "execution_count": 20,
   "id": "459eaf17-fad0-44f1-a6b1-baf8fc0898d4",
   "metadata": {},
   "outputs": [
    {
     "name": "stdout",
     "output_type": "stream",
     "text": [
      "{4: 3, 1: 1, 2: 2, 3: 1, 5: 1}\n"
     ]
    }
   ],
   "source": [
    "array = [4, 1, 2, 2, 3, 4, 4, 5]\n",
    "\n",
    "freq=freq.fromkeys(array,0)\n",
    "for i in array:\n",
    "    freq[i]=freq[i]+1\n",
    "print(freq)"
   ]
  }
 ],
 "metadata": {
  "kernelspec": {
   "display_name": "Python 3 (ipykernel)",
   "language": "python",
   "name": "python3"
  },
  "language_info": {
   "codemirror_mode": {
    "name": "ipython",
    "version": 3
   },
   "file_extension": ".py",
   "mimetype": "text/x-python",
   "name": "python",
   "nbconvert_exporter": "python",
   "pygments_lexer": "ipython3",
   "version": "3.12.5"
  }
 },
 "nbformat": 4,
 "nbformat_minor": 5
}
