{
 "cells": [
  {
   "cell_type": "code",
   "execution_count": null,
   "id": "502a47af-d043-4050-99b4-c977b818212f",
   "metadata": {},
   "outputs": [],
   "source": []
  }
 ],
 "metadata": {
  "kernelspec": {
   "display_name": "",
   "name": ""
  },
  "language_info": {
   "name": ""
  }
 },
 "nbformat": 4,
 "nbformat_minor": 5
}
