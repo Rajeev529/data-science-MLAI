{
 "cells": [
  {
   "cell_type": "code",
   "execution_count": 1,
   "id": "e33f350c-bfa5-4866-933b-c8631ea39d49",
   "metadata": {},
   "outputs": [],
   "source": [
    "import pandas as pd"
   ]
  },
  {
   "cell_type": "code",
   "execution_count": 4,
   "id": "954ae94e-e1e4-4808-baba-c12443ba625a",
   "metadata": {},
   "outputs": [
    {
     "ename": "SyntaxError",
     "evalue": "invalid syntax (951427150.py, line 1)",
     "output_type": "error",
     "traceback": [
      "\u001b[1;36m  Cell \u001b[1;32mIn[4], line 1\u001b[1;36m\u001b[0m\n\u001b[1;33m    dic={\"A\":[2,3,4,5,6],\"B\":[,5,2,5,6,6]}\u001b[0m\n\u001b[1;37m                              ^\u001b[0m\n\u001b[1;31mSyntaxError\u001b[0m\u001b[1;31m:\u001b[0m invalid syntax\n"
     ]
    }
   ],
   "source": [
    "dic={\"A\":[2,3,4,5,6],\"B\":[,5,2,5,6,6]}\n",
    "dic={\"A\":pd.Series([2,3,4,5,6]),\"B\":pd.Series([5,2,5,6,6])}\n",
    "dic"
   ]
  }
 ],
 "metadata": {
  "kernelspec": {
   "display_name": "Python 3 (ipykernel)",
   "language": "python",
   "name": "python3"
  },
  "language_info": {
   "codemirror_mode": {
    "name": "ipython",
    "version": 3
   },
   "file_extension": ".py",
   "mimetype": "text/x-python",
   "name": "python",
   "nbconvert_exporter": "python",
   "pygments_lexer": "ipython3",
   "version": "3.12.5"
  }
 },
 "nbformat": 4,
 "nbformat_minor": 5
}
