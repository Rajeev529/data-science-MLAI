{
 "cells": [
  {
   "cell_type": "markdown",
   "id": "11351343-e4e4-4b44-879e-835eefb7ca79",
   "metadata": {},
   "source": [
    "# pd.series"
   ]
  },
  {
   "cell_type": "code",
   "execution_count": 2,
   "id": "ea33787d-b5a5-4542-bab0-67c07d11bbe1",
   "metadata": {},
   "outputs": [],
   "source": [
    "import pandas as pd"
   ]
  },
  {
   "cell_type": "code",
   "execution_count": 5,
   "id": "50f1aea0-1fcb-4b6e-9408-8d359f93c367",
   "metadata": {},
   "outputs": [
    {
     "data": {
      "text/plain": [
       "0     mango\n",
       "1    orange\n",
       "2     apple\n",
       "3     guava\n",
       "dtype: object"
      ]
     },
     "execution_count": 5,
     "metadata": {},
     "output_type": "execute_result"
    }
   ],
   "source": [
    "data=['mango','orange','apple','guava']\n",
    "var=pd.Series(data)\n",
    "var"
   ]
  },
  {
   "cell_type": "code",
   "execution_count": 12,
   "id": "feb09fa6-c6c7-447f-8d87-3d51f0fc375d",
   "metadata": {},
   "outputs": [
    {
     "data": {
      "text/plain": [
       "0    23.0\n",
       "1     2.0\n",
       "2     1.0\n",
       "3     4.0\n",
       "4     5.0\n",
       "Name: cost, dtype: float64"
      ]
     },
     "execution_count": 12,
     "metadata": {},
     "output_type": "execute_result"
    }
   ],
   "source": [
    "data=[23,2,1,4,5]\n",
    "var=pd.Series(data,dtype=float, name=\"cost\")\n",
    "var"
   ]
  },
  {
   "cell_type": "code",
   "execution_count": 7,
   "id": "a48f1aa8-14ea-4196-ab64-db97ba8d02c1",
   "metadata": {},
   "outputs": [
    {
     "data": {
      "text/plain": [
       "a     mango\n",
       "b    orange\n",
       "c     apple\n",
       "d     guava\n",
       "Name: fruits, dtype: object"
      ]
     },
     "execution_count": 7,
     "metadata": {},
     "output_type": "execute_result"
    }
   ],
   "source": [
    "data=['mango','orange','apple','guava']\n",
    "var=pd.Series(data,index=['a','b','c','d'],name='fruits')\n",
    "var\n"
   ]
  },
  {
   "cell_type": "code",
   "execution_count": 8,
   "id": "e7ebf24d-a26f-4d61-af7d-80dade9739e7",
   "metadata": {},
   "outputs": [
    {
     "name": "stdout",
     "output_type": "stream",
     "text": [
      "guava    apple\n"
     ]
    },
    {
     "name": "stderr",
     "output_type": "stream",
     "text": [
      "C:\\Users\\hp\\AppData\\Local\\Temp\\ipykernel_7184\\534829519.py:1: FutureWarning: Series.__getitem__ treating keys as positions is deprecated. In a future version, integer keys will always be treated as labels (consistent with DataFrame behavior). To access a value by position, use `ser.iloc[pos]`\n",
      "  print(var[3],\"  \",var['c'])\n"
     ]
    }
   ],
   "source": [
    "print(var[3],\"  \",var['c'])"
   ]
  },
  {
   "cell_type": "code",
   "execution_count": 15,
   "id": "ad03b19e-1e5c-44e2-b584-3c4680403794",
   "metadata": {},
   "outputs": [
    {
     "name": "stdout",
     "output_type": "stream",
     "text": [
      "name          [luke, mike, jhon, gabriel]\n",
      "percentage               [96, 98, 91, 95]\n",
      "rank                         [2, 1, 4, 3]\n",
      "dtype: object\n"
     ]
    }
   ],
   "source": [
    "dic={\"name\":['luke','mike','jhon','gabriel'],\"percentage\":[96,98,91,95],\"rank\":[2,1,4,3]}\n",
    "var=pd.Series(dic)\n",
    "print(var)"
   ]
  },
  {
   "cell_type": "code",
   "execution_count": 19,
   "id": "b65049f1-39c1-4a18-81b6-d1fa9d4de706",
   "metadata": {},
   "outputs": [
    {
     "name": "stdout",
     "output_type": "stream",
     "text": [
      "0     0\n",
      "1     2\n",
      "2     4\n",
      "3     2\n",
      "4    12\n",
      "Name: d1, dtype: int64\n"
     ]
    },
    {
     "data": {
      "text/plain": [
       "0    10.0\n",
       "1    23.0\n",
       "2    46.0\n",
       "3    23.0\n",
       "4    24.0\n",
       "5     NaN\n",
       "6     NaN\n",
       "dtype: float64"
      ]
     },
     "execution_count": 19,
     "metadata": {},
     "output_type": "execute_result"
    }
   ],
   "source": [
    "d1=[0,2,4,2,12]\n",
    "d2=[10,21,42,21,12,2,13]\n",
    "var1=pd.Series(d1,name=\"d1\")\n",
    "var2=pd.Series(d2,name=\"d2\")\n",
    "var1+var2\n"
   ]
  }
 ],
 "metadata": {
  "kernelspec": {
   "display_name": "Python 3 (ipykernel)",
   "language": "python",
   "name": "python3"
  },
  "language_info": {
   "codemirror_mode": {
    "name": "ipython",
    "version": 3
   },
   "file_extension": ".py",
   "mimetype": "text/x-python",
   "name": "python",
   "nbconvert_exporter": "python",
   "pygments_lexer": "ipython3",
   "version": "3.12.5"
  }
 },
 "nbformat": 4,
 "nbformat_minor": 5
}
