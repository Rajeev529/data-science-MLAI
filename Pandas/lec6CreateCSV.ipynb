{
 "cells": [
  {
   "cell_type": "code",
   "execution_count": 1,
   "id": "77f91f97-0011-44ae-807f-5dcde9b643d0",
   "metadata": {},
   "outputs": [],
   "source": [
    "import pandas as pd"
   ]
  },
  {
   "cell_type": "code",
   "execution_count": 3,
   "id": "03fccf30-b398-4315-8740-986a5106cdf8",
   "metadata": {},
   "outputs": [
    {
     "name": "stdout",
     "output_type": "stream",
     "text": [
      "   Even  Odd  Natural\n",
      "0     2    1        1\n",
      "1     4    3        2\n",
      "2     6    5        3\n",
      "3     8    7        4\n"
     ]
    }
   ],
   "source": [
    "dic={\"Even\":[2,4,6,8],\"Odd\":[1,3,5,7],\"Natural\":[1,2,3,4]}\n",
    "var=pd.DataFrame(dic)\n",
    "var.to_csv(\"test1.csv\")\n",
    "print(var)"
   ]
  },
  {
   "cell_type": "markdown",
   "id": "c3df6531-3ac5-4c38-8e19-266874bb29a8",
   "metadata": {},
   "source": [
    "# index removed and header changed"
   ]
  },
  {
   "cell_type": "code",
   "execution_count": 5,
   "id": "5adc8484-4a4e-4430-906b-722c78b6cd8e",
   "metadata": {},
   "outputs": [
    {
     "name": "stdout",
     "output_type": "stream",
     "text": [
      "   Even  Odd  Natural\n",
      "0     2    1        1\n",
      "1     4    3        2\n",
      "2     6    5        3\n",
      "3     8    7        4\n"
     ]
    }
   ],
   "source": [
    "dic={\"Even\":[2,4,6,8],\"Odd\":[1,3,5,7],\"Natural\":[1,2,3,4]}\n",
    "var1=pd.DataFrame(dic)\n",
    "var.to_csv(\"test2.csv\",index=False,header=[4,\"2n-1\",\"Natural\"])\n",
    "print(var1)"
   ]
  }
 ],
 "metadata": {
  "kernelspec": {
   "display_name": "Python 3 (ipykernel)",
   "language": "python",
   "name": "python3"
  },
  "language_info": {
   "codemirror_mode": {
    "name": "ipython",
    "version": 3
   },
   "file_extension": ".py",
   "mimetype": "text/x-python",
   "name": "python",
   "nbconvert_exporter": "python",
   "pygments_lexer": "ipython3",
   "version": "3.12.5"
  }
 },
 "nbformat": 4,
 "nbformat_minor": 5
}
