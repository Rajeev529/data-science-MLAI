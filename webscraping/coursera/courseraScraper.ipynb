{
 "cells": [
  {
   "cell_type": "code",
   "execution_count": 13,
   "id": "d45e5b13-485f-4f2b-821f-2f586a8df059",
   "metadata": {},
   "outputs": [
    {
     "name": "stdout",
     "output_type": "stream",
     "text": [
      "1\n",
      "2\n",
      "3\n",
      "4\n",
      "5\n",
      "6\n",
      "7\n",
      "8\n",
      "9\n",
      "10\n",
      "11\n",
      "12\n",
      "13\n",
      "14\n",
      "15\n",
      "16\n",
      "17\n",
      "18\n",
      "19\n",
      "20\n",
      "21\n",
      "22\n",
      "23\n",
      "24\n",
      "25\n",
      "26\n",
      "27\n",
      "28\n",
      "29\n",
      "30\n",
      "31\n",
      "32\n",
      "33\n",
      "34\n",
      "35\n",
      "36\n",
      "37\n",
      "38\n",
      "39\n",
      "40\n",
      "41\n",
      "42\n",
      "43\n",
      "44\n",
      "45\n",
      "46\n",
      "47\n",
      "48\n",
      "49\n",
      "50\n",
      "51\n",
      "52\n",
      "53\n",
      "54\n",
      "55\n",
      "56\n",
      "57\n",
      "58\n",
      "59\n",
      "60\n",
      "61\n",
      "62\n",
      "63\n",
      "64\n",
      "65\n",
      "66\n",
      "67\n",
      "68\n",
      "69\n",
      "70\n",
      "71\n",
      "72\n",
      "73\n",
      "74\n",
      "75\n",
      "76\n",
      "77\n",
      "78\n",
      "79\n",
      "80\n",
      "81\n",
      "82\n"
     ]
    },
    {
     "ename": "NoSuchElementException",
     "evalue": "Message: no such element: Unable to locate element: {\"method\":\"xpath\",\"selector\":\"//button[@aria-label=\"Go to next page\"]\"}\n  (Session info: chrome=136.0.7103.93); For documentation on this error, please visit: https://www.selenium.dev/documentation/webdriver/troubleshooting/errors#nosuchelementexception\nStacktrace:\n\tGetHandleVerifier [0x00007FF7740FCF55+75717]\n\tGetHandleVerifier [0x00007FF7740FCFB0+75808]\n\t(No symbol) [0x00007FF773EC8F9A]\n\t(No symbol) [0x00007FF773F1F4C6]\n\t(No symbol) [0x00007FF773F1F77C]\n\t(No symbol) [0x00007FF773F72577]\n\t(No symbol) [0x00007FF773F473BF]\n\t(No symbol) [0x00007FF773F6F39C]\n\t(No symbol) [0x00007FF773F47153]\n\t(No symbol) [0x00007FF773F10421]\n\t(No symbol) [0x00007FF773F111B3]\n\tGetHandleVerifier [0x00007FF7743FD72D+3223453]\n\tGetHandleVerifier [0x00007FF7743F7CD2+3200322]\n\tGetHandleVerifier [0x00007FF774415B03+3322739]\n\tGetHandleVerifier [0x00007FF774116A2A+180890]\n\tGetHandleVerifier [0x00007FF77411E12F+211359]\n\tGetHandleVerifier [0x00007FF7741052A4+109332]\n\tGetHandleVerifier [0x00007FF774105452+109762]\n\tGetHandleVerifier [0x00007FF7740EBA69+4825]\n\tBaseThreadInitThunk [0x00007FFB5E6DE8D7+23]\n\tRtlUserThreadStart [0x00007FFB5EDDC34C+44]\n",
     "output_type": "error",
     "traceback": [
      "\u001b[1;31m---------------------------------------------------------------------------\u001b[0m",
      "\u001b[1;31mNoSuchElementException\u001b[0m                    Traceback (most recent call last)",
      "Cell \u001b[1;32mIn[13], line 21\u001b[0m\n\u001b[0;32m     19\u001b[0m count\u001b[38;5;241m=\u001b[39m\u001b[38;5;241m1\u001b[39m\n\u001b[0;32m     20\u001b[0m \u001b[38;5;28;01mwhile\u001b[39;00m(count\u001b[38;5;241m<\u001b[39m\u001b[38;5;241m=\u001b[39m\u001b[38;5;241m83\u001b[39m):\n\u001b[1;32m---> 21\u001b[0m     btn\u001b[38;5;241m=\u001b[39m\u001b[43mdriver\u001b[49m\u001b[38;5;241;43m.\u001b[39;49m\u001b[43mfind_element\u001b[49m\u001b[43m(\u001b[49m\u001b[43mBy\u001b[49m\u001b[38;5;241;43m.\u001b[39;49m\u001b[43mXPATH\u001b[49m\u001b[43m,\u001b[49m\u001b[38;5;124;43m'\u001b[39;49m\u001b[38;5;124;43m//button[@aria-label=\u001b[39;49m\u001b[38;5;124;43m\"\u001b[39;49m\u001b[38;5;124;43mGo to next page\u001b[39;49m\u001b[38;5;124;43m\"\u001b[39;49m\u001b[38;5;124;43m]\u001b[39;49m\u001b[38;5;124;43m'\u001b[39;49m\u001b[43m)\u001b[49m\n\u001b[0;32m     22\u001b[0m     btn\u001b[38;5;241m.\u001b[39mclick()\n\u001b[0;32m     23\u001b[0m     time\u001b[38;5;241m.\u001b[39msleep(\u001b[38;5;241m5\u001b[39m)\n",
      "File \u001b[1;32m~\\AppData\\Local\\Programs\\Python\\Python312\\Lib\\site-packages\\selenium\\webdriver\\remote\\webdriver.py:922\u001b[0m, in \u001b[0;36mWebDriver.find_element\u001b[1;34m(self, by, value)\u001b[0m\n\u001b[0;32m    919\u001b[0m         \u001b[38;5;28;01mraise\u001b[39;00m NoSuchElementException(\u001b[38;5;124mf\u001b[39m\u001b[38;5;124m\"\u001b[39m\u001b[38;5;124mCannot locate relative element with: \u001b[39m\u001b[38;5;132;01m{\u001b[39;00mby\u001b[38;5;241m.\u001b[39mroot\u001b[38;5;132;01m}\u001b[39;00m\u001b[38;5;124m\"\u001b[39m)\n\u001b[0;32m    920\u001b[0m     \u001b[38;5;28;01mreturn\u001b[39;00m elements[\u001b[38;5;241m0\u001b[39m]\n\u001b[1;32m--> 922\u001b[0m \u001b[38;5;28;01mreturn\u001b[39;00m \u001b[38;5;28;43mself\u001b[39;49m\u001b[38;5;241;43m.\u001b[39;49m\u001b[43mexecute\u001b[49m\u001b[43m(\u001b[49m\u001b[43mCommand\u001b[49m\u001b[38;5;241;43m.\u001b[39;49m\u001b[43mFIND_ELEMENT\u001b[49m\u001b[43m,\u001b[49m\u001b[43m \u001b[49m\u001b[43m{\u001b[49m\u001b[38;5;124;43m\"\u001b[39;49m\u001b[38;5;124;43musing\u001b[39;49m\u001b[38;5;124;43m\"\u001b[39;49m\u001b[43m:\u001b[49m\u001b[43m \u001b[49m\u001b[43mby\u001b[49m\u001b[43m,\u001b[49m\u001b[43m \u001b[49m\u001b[38;5;124;43m\"\u001b[39;49m\u001b[38;5;124;43mvalue\u001b[39;49m\u001b[38;5;124;43m\"\u001b[39;49m\u001b[43m:\u001b[49m\u001b[43m \u001b[49m\u001b[43mvalue\u001b[49m\u001b[43m}\u001b[49m\u001b[43m)\u001b[49m[\u001b[38;5;124m\"\u001b[39m\u001b[38;5;124mvalue\u001b[39m\u001b[38;5;124m\"\u001b[39m]\n",
      "File \u001b[1;32m~\\AppData\\Local\\Programs\\Python\\Python312\\Lib\\site-packages\\selenium\\webdriver\\remote\\webdriver.py:454\u001b[0m, in \u001b[0;36mWebDriver.execute\u001b[1;34m(self, driver_command, params)\u001b[0m\n\u001b[0;32m    451\u001b[0m response \u001b[38;5;241m=\u001b[39m cast(RemoteConnection, \u001b[38;5;28mself\u001b[39m\u001b[38;5;241m.\u001b[39mcommand_executor)\u001b[38;5;241m.\u001b[39mexecute(driver_command, params)\n\u001b[0;32m    453\u001b[0m \u001b[38;5;28;01mif\u001b[39;00m response:\n\u001b[1;32m--> 454\u001b[0m     \u001b[38;5;28;43mself\u001b[39;49m\u001b[38;5;241;43m.\u001b[39;49m\u001b[43merror_handler\u001b[49m\u001b[38;5;241;43m.\u001b[39;49m\u001b[43mcheck_response\u001b[49m\u001b[43m(\u001b[49m\u001b[43mresponse\u001b[49m\u001b[43m)\u001b[49m\n\u001b[0;32m    455\u001b[0m     response[\u001b[38;5;124m\"\u001b[39m\u001b[38;5;124mvalue\u001b[39m\u001b[38;5;124m\"\u001b[39m] \u001b[38;5;241m=\u001b[39m \u001b[38;5;28mself\u001b[39m\u001b[38;5;241m.\u001b[39m_unwrap_value(response\u001b[38;5;241m.\u001b[39mget(\u001b[38;5;124m\"\u001b[39m\u001b[38;5;124mvalue\u001b[39m\u001b[38;5;124m\"\u001b[39m, \u001b[38;5;28;01mNone\u001b[39;00m))\n\u001b[0;32m    456\u001b[0m     \u001b[38;5;28;01mreturn\u001b[39;00m response\n",
      "File \u001b[1;32m~\\AppData\\Local\\Programs\\Python\\Python312\\Lib\\site-packages\\selenium\\webdriver\\remote\\errorhandler.py:232\u001b[0m, in \u001b[0;36mErrorHandler.check_response\u001b[1;34m(self, response)\u001b[0m\n\u001b[0;32m    230\u001b[0m         alert_text \u001b[38;5;241m=\u001b[39m value[\u001b[38;5;124m\"\u001b[39m\u001b[38;5;124malert\u001b[39m\u001b[38;5;124m\"\u001b[39m]\u001b[38;5;241m.\u001b[39mget(\u001b[38;5;124m\"\u001b[39m\u001b[38;5;124mtext\u001b[39m\u001b[38;5;124m\"\u001b[39m)\n\u001b[0;32m    231\u001b[0m     \u001b[38;5;28;01mraise\u001b[39;00m exception_class(message, screen, stacktrace, alert_text)  \u001b[38;5;66;03m# type: ignore[call-arg]  # mypy is not smart enough here\u001b[39;00m\n\u001b[1;32m--> 232\u001b[0m \u001b[38;5;28;01mraise\u001b[39;00m exception_class(message, screen, stacktrace)\n",
      "\u001b[1;31mNoSuchElementException\u001b[0m: Message: no such element: Unable to locate element: {\"method\":\"xpath\",\"selector\":\"//button[@aria-label=\"Go to next page\"]\"}\n  (Session info: chrome=136.0.7103.93); For documentation on this error, please visit: https://www.selenium.dev/documentation/webdriver/troubleshooting/errors#nosuchelementexception\nStacktrace:\n\tGetHandleVerifier [0x00007FF7740FCF55+75717]\n\tGetHandleVerifier [0x00007FF7740FCFB0+75808]\n\t(No symbol) [0x00007FF773EC8F9A]\n\t(No symbol) [0x00007FF773F1F4C6]\n\t(No symbol) [0x00007FF773F1F77C]\n\t(No symbol) [0x00007FF773F72577]\n\t(No symbol) [0x00007FF773F473BF]\n\t(No symbol) [0x00007FF773F6F39C]\n\t(No symbol) [0x00007FF773F47153]\n\t(No symbol) [0x00007FF773F10421]\n\t(No symbol) [0x00007FF773F111B3]\n\tGetHandleVerifier [0x00007FF7743FD72D+3223453]\n\tGetHandleVerifier [0x00007FF7743F7CD2+3200322]\n\tGetHandleVerifier [0x00007FF774415B03+3322739]\n\tGetHandleVerifier [0x00007FF774116A2A+180890]\n\tGetHandleVerifier [0x00007FF77411E12F+211359]\n\tGetHandleVerifier [0x00007FF7741052A4+109332]\n\tGetHandleVerifier [0x00007FF774105452+109762]\n\tGetHandleVerifier [0x00007FF7740EBA69+4825]\n\tBaseThreadInitThunk [0x00007FFB5E6DE8D7+23]\n\tRtlUserThreadStart [0x00007FFB5EDDC34C+44]\n"
     ]
    }
   ],
   "source": [
    "from selenium import webdriver\n",
    "from selenium.webdriver.chrome.service import Service\n",
    "from selenium.webdriver.common.by import By\n",
    "import time\n",
    "import numpy as np\n",
    "service=Service(executable_path=r\"C:\\Users\\hp\\Data Science ML\\webscraping\\chromedriver.exe\")\n",
    "driver=webdriver.Chrome(service=service)\n",
    "driver.get('https://www.coursera.org/courses?')\n",
    "time.sleep(3)\n",
    "\n",
    "btn=driver.find_element(By.XPATH,'//button[@aria-label=\"Go to next page\"]')\n",
    "\n",
    "img=[]\n",
    "title=[]\n",
    "des=[]\n",
    "revw=[]\n",
    "link=[]\n",
    "\n",
    "count=1\n",
    "while(count<=83):\n",
    "    btn=driver.find_element(By.XPATH,'//button[@aria-label=\"Go to next page\"]')\n",
    "    btn.click()\n",
    "    time.sleep(5)\n",
    "    cards=driver.find_elements(By.XPATH, '//li[@class=\"cds-9 css-0 cds-11 cds-grid-item cds-56 cds-64 cds-76 cds-90\"]')\n",
    "    \n",
    "    for card in cards:\n",
    "        img1=card.find_element(By.XPATH,'.//div[@class=\"cds-ProductCard-gridPreviewContainer\"]//img').get_attribute('src')\n",
    "        img.append(img1)\n",
    "        try:\n",
    "            title1=card.find_element(By.XPATH,'.//h3')\n",
    "            title.append(title1.text.strip())\n",
    "        except:\n",
    "            title.append(np.nan)\n",
    "            \n",
    "        try:    \n",
    "            des1=card.find_element(By.XPATH,'.//p[@class=\"css-vac8rf\"]')\n",
    "            des.append(des1.text.strip())\n",
    "        except:\n",
    "            des.append(np.nan)\n",
    "    \n",
    "        try:\n",
    "            revw1=card.find_element(By.XPATH, './/div[@class=\"css-vac8rf\"]')\n",
    "            revw.append(revw1.text.strip())\n",
    "        except:\n",
    "            revw.append(np.nan)\n",
    "            \n",
    "        try:\n",
    "            link1=card.find_element(By.XPATH,'.//div//a').get_attribute('href')\n",
    "            link.append(link1)\n",
    "        except:\n",
    "            link.append(np.nan)\n",
    "            \n",
    "    print(count)\n",
    "    count=count+1\n",
    "\n",
    "driver.quit()"
   ]
  },
  {
   "cell_type": "code",
   "execution_count": 21,
   "id": "dbbc3f75-b98b-4fde-a40e-2c7c7a024560",
   "metadata": {},
   "outputs": [
    {
     "data": {
      "text/plain": [
       "Heading        0\n",
       "Revewe         4\n",
       "Description    0\n",
       "URL            0\n",
       "image          0\n",
       "dtype: int64"
      ]
     },
     "execution_count": 21,
     "metadata": {},
     "output_type": "execute_result"
    }
   ],
   "source": [
    "import pandas as pd\n",
    "data={\"Heading\":title, \"Revewe\":revw, \"Description\":des,  \"URL\": link, \"image\":img}\n",
    "df=pd.DataFrame(data)\n",
    "df.isna().sum()"
   ]
  },
  {
   "cell_type": "code",
   "execution_count": 7,
   "id": "5bd2dbba-b98f-492d-81d2-ff45e5c8b53a",
   "metadata": {},
   "outputs": [
    {
     "ename": "NoSuchWindowException",
     "evalue": "Message: no such window: target window already closed\nfrom unknown error: web view not found\n  (Session info: chrome=136.0.7103.93)\nStacktrace:\n\tGetHandleVerifier [0x00007FF7740FCF55+75717]\n\tGetHandleVerifier [0x00007FF7740FCFB0+75808]\n\t(No symbol) [0x00007FF773EC8F9A]\n\t(No symbol) [0x00007FF773EA1B41]\n\t(No symbol) [0x00007FF773F4EC2E]\n\t(No symbol) [0x00007FF773F6ECC2]\n\t(No symbol) [0x00007FF773F47153]\n\t(No symbol) [0x00007FF773F10421]\n\t(No symbol) [0x00007FF773F111B3]\n\tGetHandleVerifier [0x00007FF7743FD72D+3223453]\n\tGetHandleVerifier [0x00007FF7743F7CD2+3200322]\n\tGetHandleVerifier [0x00007FF774415B03+3322739]\n\tGetHandleVerifier [0x00007FF774116A2A+180890]\n\tGetHandleVerifier [0x00007FF77411E12F+211359]\n\tGetHandleVerifier [0x00007FF7741052A4+109332]\n\tGetHandleVerifier [0x00007FF774105452+109762]\n\tGetHandleVerifier [0x00007FF7740EBA69+4825]\n\tBaseThreadInitThunk [0x00007FFB5E6DE8D7+23]\n\tRtlUserThreadStart [0x00007FFB5EDDC34C+44]\n",
     "output_type": "error",
     "traceback": [
      "\u001b[1;31m---------------------------------------------------------------------------\u001b[0m",
      "\u001b[1;31mNoSuchWindowException\u001b[0m                     Traceback (most recent call last)",
      "Cell \u001b[1;32mIn[7], line 10\u001b[0m\n\u001b[0;32m      7\u001b[0m driver\u001b[38;5;241m.\u001b[39mget(\u001b[38;5;124m'\u001b[39m\u001b[38;5;124mhttps://www.coursera.org/courses?\u001b[39m\u001b[38;5;124m'\u001b[39m)\n\u001b[0;32m      8\u001b[0m time\u001b[38;5;241m.\u001b[39msleep(\u001b[38;5;241m5\u001b[39m)\n\u001b[1;32m---> 10\u001b[0m cards\u001b[38;5;241m=\u001b[39m\u001b[43mdriver\u001b[49m\u001b[38;5;241;43m.\u001b[39;49m\u001b[43mfind_elements\u001b[49m\u001b[43m(\u001b[49m\u001b[43mBy\u001b[49m\u001b[38;5;241;43m.\u001b[39;49m\u001b[43mXPATH\u001b[49m\u001b[43m,\u001b[49m\u001b[43m \u001b[49m\u001b[38;5;124;43m'\u001b[39;49m\u001b[38;5;124;43m//li[@class=\u001b[39;49m\u001b[38;5;124;43m\"\u001b[39;49m\u001b[38;5;124;43mcds-9 css-0 cds-11 cds-grid-item cds-56 cds-64 cds-76 cds-90\u001b[39;49m\u001b[38;5;124;43m\"\u001b[39;49m\u001b[38;5;124;43m]\u001b[39;49m\u001b[38;5;124;43m'\u001b[39;49m\u001b[43m)\u001b[49m\n\u001b[0;32m     12\u001b[0m img\u001b[38;5;241m=\u001b[39m[]\n\u001b[0;32m     13\u001b[0m title\u001b[38;5;241m=\u001b[39m[]\n",
      "File \u001b[1;32m~\\AppData\\Local\\Programs\\Python\\Python312\\Lib\\site-packages\\selenium\\webdriver\\remote\\webdriver.py:963\u001b[0m, in \u001b[0;36mWebDriver.find_elements\u001b[1;34m(self, by, value)\u001b[0m\n\u001b[0;32m    959\u001b[0m     \u001b[38;5;28;01mreturn\u001b[39;00m \u001b[38;5;28mself\u001b[39m\u001b[38;5;241m.\u001b[39mexecute_script(find_element_js, by\u001b[38;5;241m.\u001b[39mto_dict())\n\u001b[0;32m    961\u001b[0m \u001b[38;5;66;03m# Return empty list if driver returns null\u001b[39;00m\n\u001b[0;32m    962\u001b[0m \u001b[38;5;66;03m# See https://github.com/SeleniumHQ/selenium/issues/4555\u001b[39;00m\n\u001b[1;32m--> 963\u001b[0m \u001b[38;5;28;01mreturn\u001b[39;00m \u001b[38;5;28;43mself\u001b[39;49m\u001b[38;5;241;43m.\u001b[39;49m\u001b[43mexecute\u001b[49m\u001b[43m(\u001b[49m\u001b[43mCommand\u001b[49m\u001b[38;5;241;43m.\u001b[39;49m\u001b[43mFIND_ELEMENTS\u001b[49m\u001b[43m,\u001b[49m\u001b[43m \u001b[49m\u001b[43m{\u001b[49m\u001b[38;5;124;43m\"\u001b[39;49m\u001b[38;5;124;43musing\u001b[39;49m\u001b[38;5;124;43m\"\u001b[39;49m\u001b[43m:\u001b[49m\u001b[43m \u001b[49m\u001b[43mby\u001b[49m\u001b[43m,\u001b[49m\u001b[43m \u001b[49m\u001b[38;5;124;43m\"\u001b[39;49m\u001b[38;5;124;43mvalue\u001b[39;49m\u001b[38;5;124;43m\"\u001b[39;49m\u001b[43m:\u001b[49m\u001b[43m \u001b[49m\u001b[43mvalue\u001b[49m\u001b[43m}\u001b[49m\u001b[43m)\u001b[49m[\u001b[38;5;124m\"\u001b[39m\u001b[38;5;124mvalue\u001b[39m\u001b[38;5;124m\"\u001b[39m] \u001b[38;5;129;01mor\u001b[39;00m []\n",
      "File \u001b[1;32m~\\AppData\\Local\\Programs\\Python\\Python312\\Lib\\site-packages\\selenium\\webdriver\\remote\\webdriver.py:454\u001b[0m, in \u001b[0;36mWebDriver.execute\u001b[1;34m(self, driver_command, params)\u001b[0m\n\u001b[0;32m    451\u001b[0m response \u001b[38;5;241m=\u001b[39m cast(RemoteConnection, \u001b[38;5;28mself\u001b[39m\u001b[38;5;241m.\u001b[39mcommand_executor)\u001b[38;5;241m.\u001b[39mexecute(driver_command, params)\n\u001b[0;32m    453\u001b[0m \u001b[38;5;28;01mif\u001b[39;00m response:\n\u001b[1;32m--> 454\u001b[0m     \u001b[38;5;28;43mself\u001b[39;49m\u001b[38;5;241;43m.\u001b[39;49m\u001b[43merror_handler\u001b[49m\u001b[38;5;241;43m.\u001b[39;49m\u001b[43mcheck_response\u001b[49m\u001b[43m(\u001b[49m\u001b[43mresponse\u001b[49m\u001b[43m)\u001b[49m\n\u001b[0;32m    455\u001b[0m     response[\u001b[38;5;124m\"\u001b[39m\u001b[38;5;124mvalue\u001b[39m\u001b[38;5;124m\"\u001b[39m] \u001b[38;5;241m=\u001b[39m \u001b[38;5;28mself\u001b[39m\u001b[38;5;241m.\u001b[39m_unwrap_value(response\u001b[38;5;241m.\u001b[39mget(\u001b[38;5;124m\"\u001b[39m\u001b[38;5;124mvalue\u001b[39m\u001b[38;5;124m\"\u001b[39m, \u001b[38;5;28;01mNone\u001b[39;00m))\n\u001b[0;32m    456\u001b[0m     \u001b[38;5;28;01mreturn\u001b[39;00m response\n",
      "File \u001b[1;32m~\\AppData\\Local\\Programs\\Python\\Python312\\Lib\\site-packages\\selenium\\webdriver\\remote\\errorhandler.py:232\u001b[0m, in \u001b[0;36mErrorHandler.check_response\u001b[1;34m(self, response)\u001b[0m\n\u001b[0;32m    230\u001b[0m         alert_text \u001b[38;5;241m=\u001b[39m value[\u001b[38;5;124m\"\u001b[39m\u001b[38;5;124malert\u001b[39m\u001b[38;5;124m\"\u001b[39m]\u001b[38;5;241m.\u001b[39mget(\u001b[38;5;124m\"\u001b[39m\u001b[38;5;124mtext\u001b[39m\u001b[38;5;124m\"\u001b[39m)\n\u001b[0;32m    231\u001b[0m     \u001b[38;5;28;01mraise\u001b[39;00m exception_class(message, screen, stacktrace, alert_text)  \u001b[38;5;66;03m# type: ignore[call-arg]  # mypy is not smart enough here\u001b[39;00m\n\u001b[1;32m--> 232\u001b[0m \u001b[38;5;28;01mraise\u001b[39;00m exception_class(message, screen, stacktrace)\n",
      "\u001b[1;31mNoSuchWindowException\u001b[0m: Message: no such window: target window already closed\nfrom unknown error: web view not found\n  (Session info: chrome=136.0.7103.93)\nStacktrace:\n\tGetHandleVerifier [0x00007FF7740FCF55+75717]\n\tGetHandleVerifier [0x00007FF7740FCFB0+75808]\n\t(No symbol) [0x00007FF773EC8F9A]\n\t(No symbol) [0x00007FF773EA1B41]\n\t(No symbol) [0x00007FF773F4EC2E]\n\t(No symbol) [0x00007FF773F6ECC2]\n\t(No symbol) [0x00007FF773F47153]\n\t(No symbol) [0x00007FF773F10421]\n\t(No symbol) [0x00007FF773F111B3]\n\tGetHandleVerifier [0x00007FF7743FD72D+3223453]\n\tGetHandleVerifier [0x00007FF7743F7CD2+3200322]\n\tGetHandleVerifier [0x00007FF774415B03+3322739]\n\tGetHandleVerifier [0x00007FF774116A2A+180890]\n\tGetHandleVerifier [0x00007FF77411E12F+211359]\n\tGetHandleVerifier [0x00007FF7741052A4+109332]\n\tGetHandleVerifier [0x00007FF774105452+109762]\n\tGetHandleVerifier [0x00007FF7740EBA69+4825]\n\tBaseThreadInitThunk [0x00007FFB5E6DE8D7+23]\n\tRtlUserThreadStart [0x00007FFB5EDDC34C+44]\n"
     ]
    }
   ],
   "source": [
    "from selenium import webdriver\n",
    "from selenium.webdriver.chrome.service import Service\n",
    "from selenium.webdriver.common.by import By\n",
    "import time\n",
    "service=Service(executable_path=r\"C:\\Users\\hp\\Data Science ML\\webscraping\\chromedriver.exe\")\n",
    "driver=webdriver.Chrome(service=service)\n",
    "driver.get('https://www.coursera.org/courses?')\n",
    "time.sleep(5)\n",
    "\n",
    "cards=driver.find_elements(By.XPATH, '//li[@class=\"cds-9 css-0 cds-11 cds-grid-item cds-56 cds-64 cds-76 cds-90\"]')\n",
    "\n",
    "img=[]\n",
    "title=[]\n",
    "des=[]\n",
    "revw=[]\n",
    "link=[]\n",
    "\n",
    "for card in cards:\n",
    "    img1=card.find_element(By.XPATH,'.//div[@class=\"cds-ProductCard-gridPreviewContainer\"]//img').get_attribute('src')\n",
    "    img.append(img1)\n",
    "\n",
    "    title1=card.find_element(By.XPATH,'.//h3')\n",
    "    title.append(title1.text.strip())\n",
    "\n",
    "    des1=card.find_element(By.XPATH,'.//p[@class=\"css-vac8rf\"]')\n",
    "    des.append(des1.text.strip())\n",
    "\n",
    "    revw1=card.find_element(By.XPATH, './/div[@class=\"css-vac8rf\"]')\n",
    "    revw.append(revw1.text.strip())\n",
    "\n",
    "    link1=card.find_element(By.XPATH,'.//div//a').get_attribute('href')\n",
    "    link.append(link1)\n",
    "\n",
    "driver.quit()\n",
    "    "
   ]
  },
  {
   "cell_type": "code",
   "execution_count": 26,
   "id": "514d0aa7-fa03-49a8-84da-111d166d9570",
   "metadata": {},
   "outputs": [],
   "source": [
    "import pandas as pd\n",
    "data={\"Heading\":title, \"Revewe\":revw, \"Description\":des,  \"URL\": link, \"image\":img}\n",
    "df=pd.DataFrame(data)\n",
    "ndf=df.ffill()\n",
    "ndf.to_csv('popularCoursera.csv')"
   ]
  },
  {
   "cell_type": "code",
   "execution_count": null,
   "id": "4878b4ba-2fc4-49d2-9bb3-4479763751f0",
   "metadata": {},
   "outputs": [],
   "source": []
  },
  {
   "cell_type": "code",
   "execution_count": 5,
   "id": "c47e7faa-631f-48e0-87e6-5ae1d6754ce3",
   "metadata": {},
   "outputs": [
    {
     "name": "stdout",
     "output_type": "stream",
     "text": [
      "1\n",
      "2\n",
      "3\n",
      "4\n",
      "5\n",
      "6\n",
      "7\n"
     ]
    },
    {
     "ename": "IndexError",
     "evalue": "list index out of range",
     "output_type": "error",
     "traceback": [
      "\u001b[1;31m---------------------------------------------------------------------------\u001b[0m",
      "\u001b[1;31mIndexError\u001b[0m                                Traceback (most recent call last)",
      "Cell \u001b[1;32mIn[5], line 4\u001b[0m\n\u001b[0;32m      2\u001b[0m count\u001b[38;5;241m=\u001b[39m\u001b[38;5;241m0\u001b[39m\n\u001b[0;32m      3\u001b[0m \u001b[38;5;28;01mwhile\u001b[39;00m(\u001b[38;5;28;01mTrue\u001b[39;00m):\n\u001b[1;32m----> 4\u001b[0m     \u001b[38;5;28mprint\u001b[39m(\u001b[43marr\u001b[49m\u001b[43m[\u001b[49m\u001b[43mcount\u001b[49m\u001b[43m]\u001b[49m)\n\u001b[0;32m      5\u001b[0m     count\u001b[38;5;241m=\u001b[39mcount\u001b[38;5;241m+\u001b[39m\u001b[38;5;241m1\u001b[39m\n",
      "\u001b[1;31mIndexError\u001b[0m: list index out of range"
     ]
    }
   ],
   "source": [
    "arr=[1,2,3,4,5,6,7]\n"
   ]
  }
 ],
 "metadata": {
  "kernelspec": {
   "display_name": "Python 3 (ipykernel)",
   "language": "python",
   "name": "python3"
  },
  "language_info": {
   "codemirror_mode": {
    "name": "ipython",
    "version": 3
   },
   "file_extension": ".py",
   "mimetype": "text/x-python",
   "name": "python",
   "nbconvert_exporter": "python",
   "pygments_lexer": "ipython3",
   "version": "3.12.5"
  }
 },
 "nbformat": 4,
 "nbformat_minor": 5
}
