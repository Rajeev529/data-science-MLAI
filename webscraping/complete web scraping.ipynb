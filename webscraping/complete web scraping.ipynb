{
 "cells": [
  {
   "cell_type": "code",
   "execution_count": null,
   "id": "32721bdf-b95d-40d9-a943-40db8bbd641f",
   "metadata": {},
   "outputs": [],
   "source": []
  },
  {
   "cell_type": "code",
   "execution_count": 4,
   "id": "d74e6869-aa5f-44d5-926b-5049c824a9c2",
   "metadata": {},
   "outputs": [
    {
     "data": {
      "text/plain": [
       "<Response [200]>"
      ]
     },
     "execution_count": 4,
     "metadata": {},
     "output_type": "execute_result"
    }
   ],
   "source": [
    "import requests\n",
    "web=requests.get('https://www.tutorialsfreak.com/')\n",
    "web"
   ]
  },
  {
   "cell_type": "code",
   "execution_count": 18,
   "id": "c4daa4c0-dc63-42ae-a54d-30385facc095",
   "metadata": {},
   "outputs": [],
   "source": [
    "from bs4 import BeautifulSoup as bs\n",
    "cont=web.content\n",
    "\n",
    "soup=bs(cont,'html.parser')  #bs(request.get('url').content, 'html.parsr')\n",
    "print(soup.prettify()) #use to pretify the data"
   ]
  },
  {
   "cell_type": "markdown",
   "id": "c02696c3-1833-4daa-9880-15540443a9ec",
   "metadata": {},
   "source": [
    "# html tag soup.tag"
   ]
  },
  {
   "cell_type": "code",
   "execution_count": 19,
   "id": "c157f6f5-27e6-45c2-a671-2144d158ff30",
   "metadata": {},
   "outputs": [],
   "source": [
    "print(soup.a) #fetch first anchor tag"
   ]
  },
  {
   "cell_type": "code",
   "execution_count": 16,
   "id": "3d309085-1865-40d5-8f06-86c3634c492a",
   "metadata": {},
   "outputs": [
    {
     "name": "stdout",
     "output_type": "stream",
     "text": [
      "<p class=\"section-subheading\">Kickstart effective learning with Tutorials Freak, with new content published every day.</p>\n"
     ]
    }
   ],
   "source": [
    "print(soup.p) # fetch first p tag"
   ]
  },
  {
   "cell_type": "code",
   "execution_count": 17,
   "id": "6d20320b-1daf-4638-8a28-9e33aeff1e1c",
   "metadata": {},
   "outputs": [
    {
     "name": "stdout",
     "output_type": "stream",
     "text": [
      "<h1 class=\"main-heading my-3\">High-Quality, Practical-based, Free Tutorials</h1>\n"
     ]
    }
   ],
   "source": [
    "print(soup.h1)  #fetch first h1 tag"
   ]
  },
  {
   "cell_type": "code",
   "execution_count": 3,
   "id": "b3bd8355-8a71-4be3-864e-fe069901ba69",
   "metadata": {},
   "outputs": [],
   "source": [
    "# print(soup.body.prettify())"
   ]
  },
  {
   "cell_type": "markdown",
   "id": "703d2bd7-66b1-4e12-983b-fcf839a78afc",
   "metadata": {},
   "source": [
    "# bs objects\n",
    "1.) tag: print perticular tag (you learned it very well above)\n",
    "2.) navigation string: fetch string from perticular tag\n",
    "3.) comments: commented data"
   ]
  },
  {
   "cell_type": "code",
   "execution_count": 27,
   "id": "db5de510-1710-4c62-b93b-d83140f506b2",
   "metadata": {},
   "outputs": [],
   "source": [
    "# 2.) navigable string\n",
    "\n",
    "import requests\n",
    "from bs4 import BeautifulSoup as bs\n",
    "url=requests.get('https://www.tutorialsfreak.com/')\n",
    "soup=bs(url.content,'html.parser')\n"
   ]
  },
  {
   "cell_type": "markdown",
   "id": "baa7d1cf-e594-4209-8cca-691fe3300009",
   "metadata": {},
   "source": [
    "# 2.) navigable string"
   ]
  },
  {
   "cell_type": "code",
   "execution_count": 32,
   "id": "9087c442-6769-4f41-85f1-9de416d5b8d9",
   "metadata": {},
   "outputs": [
    {
     "name": "stdout",
     "output_type": "stream",
     "text": [
      "High-Quality, Practical-based, Free Tutorials\n",
      "Most Popular Tutorials\n",
      "Kickstart effective learning with Tutorials Freak, with new content published every day.\n"
     ]
    }
   ],
   "source": [
    "print(soup.h1.string)\n",
    "print(soup.h2.string)\n",
    "print(soup.p.string)"
   ]
  },
  {
   "cell_type": "code",
   "execution_count": 36,
   "id": "2d723da5-4bda-41d7-83d1-9726650628d8",
   "metadata": {},
   "outputs": [
    {
     "data": {
      "text/plain": [
       "'Kickstart effective learning with Tutorials Freak, with new content published every day.'"
      ]
     },
     "execution_count": 36,
     "metadata": {},
     "output_type": "execute_result"
    }
   ],
   "source": [
    "# fetch first single data\n",
    "\n",
    "single=soup.find('h1').string\n",
    "single=soup.find('p').string\n",
    "single"
   ]
  },
  {
   "cell_type": "code",
   "execution_count": 45,
   "id": "8fb31206-7ec4-4dba-90aa-a036ae4dc696",
   "metadata": {},
   "outputs": [
    {
     "name": "stdout",
     "output_type": "stream",
     "text": [
      "0 .)  Kickstart effective learning with Tutorials Freak, with new content published every day.\n",
      "1 .)  The entire content on the site is verified by pro developers and tech freaks.\n",
      "2 .)  The entire content on the site is verified by pro developers and tech freaks. Enabling self-directed learning so that you can learn at your pace and shape your own path.\n",
      "3 .)  Along with simplified tutorials, you get video content created by industry experts.\n",
      "4 .)  Learning programming and technical things can be complex. We are here to make it easy with simple and interactive tutorials.\n",
      "5 .)  Learning programming and technical things can be complex. We are here to make it easy with simple and interactive tutorials.\n",
      "6 .)  Explore the expert-curated interview questions with answers.\n",
      "7 .)  Plenty of quizzes with time duration and skill assessment.\n",
      "8 .)  Find coding examples with programs, output, easy explanations, and videos.\n",
      "9 .)  None\n",
      "10 .)  With an account, you get access to premium content and courses at no cost.\n",
      "11 .)  Download the app now to learn and practice hassle-free.\n",
      "12 .)  None\n"
     ]
    }
   ],
   "source": [
    "#fetch all data presnt in html of perticular tag and it store all the data in array\n",
    "\n",
    "multi_h1=soup.find_all('p')\n",
    "# print(multi_h1)\n",
    "for i in range(0,len(multi_h1)):\n",
    "    print(i,\".) \",multi_h1[i].string)\n"
   ]
  },
  {
   "cell_type": "markdown",
   "id": "3f342321-fd36-4c54-8efb-340f0fe5b929",
   "metadata": {},
   "source": [
    "# fetch data using class_ id"
   ]
  },
  {
   "cell_type": "code",
   "execution_count": 39,
   "id": "d482b2ef-0c0d-49e7-8baa-620b813e856f",
   "metadata": {},
   "outputs": [
    {
     "name": "stdout",
     "output_type": "stream",
     "text": [
      "None\n"
     ]
    }
   ],
   "source": [
    "from bs4 import BeautifulSoup as bs\n",
    "import requests\n",
    "url=requests.get('https://www.tutorialsfreak.com/')\n",
    "soup=bs(url.content, 'html.parser')\n",
    "nav=soup.find('div',id=\"tutorial-freak-nav\")\n",
    "# print(nav.prettify())\n",
    "\n",
    "head=soup.find(\"div\",class_=\"wrapperr h-100\")\n",
    "# print(head.prettify())\n",
    "a=head.find(\"div\",class_=\"dropdown-3 d-none bg-white main-mega-dropdown online-classes-menu\")\n",
    "print(a)"
   ]
  },
  {
   "cell_type": "code",
   "execution_count": 40,
   "id": "e488ac46-a120-47f8-b1fe-ccf8553b0dab",
   "metadata": {},
   "outputs": [
    {
     "name": "stdout",
     "output_type": "stream",
     "text": [
      "None\n"
     ]
    }
   ],
   "source": [
    "import requests\n",
    "from bs4 import BeautifulSoup\n",
    "\n",
    "url = \"https://www.tutorialsfreak.com/\"\n",
    "response = requests.get(url)\n",
    "soup = BeautifulSoup(response.content, \"html.parser\")\n",
    "\n",
    "# Find the container\n",
    "tab_content_div = soup.find(\"div\", class_=\"tab-content\")\n",
    "print(tab_content_div)\n",
    "# Find all tab panes inside it\n",
    "# tab_panes = tab_content_div.find_all(\"div\", class_=\"tab-pane\")\n",
    "\n",
    "# # Extract content from each tab\n",
    "# for idx, tab in enumerate(tab_panes):\n",
    "#     print(f\"Tab {idx} content:\\n{tab.get_text(strip=True)}\\n{'-'*40}\")\n"
   ]
  }
 ],
 "metadata": {
  "kernelspec": {
   "display_name": "Python 3 (ipykernel)",
   "language": "python",
   "name": "python3"
  },
  "language_info": {
   "codemirror_mode": {
    "name": "ipython",
    "version": 3
   },
   "file_extension": ".py",
   "mimetype": "text/x-python",
   "name": "python",
   "nbconvert_exporter": "python",
   "pygments_lexer": "ipython3",
   "version": "3.12.5"
  }
 },
 "nbformat": 4,
 "nbformat_minor": 5
}
